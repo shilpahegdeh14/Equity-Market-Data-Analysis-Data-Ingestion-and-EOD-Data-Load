{
 "cells": [
  {
   "cell_type": "code",
   "execution_count": 0,
   "metadata": {
    "application/vnd.databricks.v1+cell": {
     "cellMetadata": {
      "byteLimit": 2048000,
      "rowLimit": 10000
     },
     "inputWidgets": {},
     "nuid": "16fe9368-c00c-43ca-9eef-9e387fa79f86",
     "showTitle": false,
     "title": ""
    }
   },
   "outputs": [
    {
     "output_type": "execute_result",
     "data": {
      "text/plain": [
       "[MountInfo(mountPoint='/databricks-datasets', source='databricks-datasets', encryptionType=''),\n",
       " MountInfo(mountPoint='/Volumes', source='UnityCatalogVolumes', encryptionType=''),\n",
       " MountInfo(mountPoint='/databricks/mlflow-tracking', source='databricks/mlflow-tracking', encryptionType=''),\n",
       " MountInfo(mountPoint='/databricks-results', source='databricks-results', encryptionType=''),\n",
       " MountInfo(mountPoint='/databricks/mlflow-registry', source='databricks/mlflow-registry', encryptionType=''),\n",
       " MountInfo(mountPoint='/Volume', source='DbfsReserved', encryptionType=''),\n",
       " MountInfo(mountPoint='/volumes', source='DbfsReserved', encryptionType=''),\n",
       " MountInfo(mountPoint='/mnt/data/', source='wasbs://democontainer1@cs41003200352e209cc.blob.core.windows.net', encryptionType=''),\n",
       " MountInfo(mountPoint='/', source='DatabricksRoot', encryptionType=''),\n",
       " MountInfo(mountPoint='/volume', source='DbfsReserved', encryptionType='')]"
      ]
     },
     "execution_count": 64,
     "metadata": {},
     "output_type": "execute_result"
    }
   ],
   "source": [
    "dbutils.fs.mounts()"
   ]
  },
  {
   "cell_type": "code",
   "execution_count": 0,
   "metadata": {
    "application/vnd.databricks.v1+cell": {
     "cellMetadata": {
      "byteLimit": 2048000,
      "rowLimit": 10000
     },
     "inputWidgets": {},
     "nuid": "33004156-577a-4a4f-9b58-d19af6d63ecd",
     "showTitle": false,
     "title": ""
    }
   },
   "outputs": [
    {
     "output_type": "stream",
     "name": "stdout",
     "output_type": "stream",
     "text": [
      "/mnt/data has been unmounted.\nunmount completed\nbegin re-mount\n/mnt/data/\nmount succeeded!\nremount completed\n"
     ]
    },
    {
     "output_type": "execute_result",
     "data": {
      "text/plain": [
       "[FileInfo(path='dbfs:/mnt/data/NYSE/._SUCCESS.crc', name='._SUCCESS.crc', size=8, modificationTime=1711658536000),\n",
       " FileInfo(path='dbfs:/mnt/data/NYSE/.part-00000-214fff0a-f408-466c-bb15-095cd8b648dc-c000.txt.crc', name='.part-00000-214fff0a-f408-466c-bb15-095cd8b648dc-c000.txt.crc', size=276, modificationTime=1711658536000),\n",
       " FileInfo(path='dbfs:/mnt/data/NYSE/.part-00000-5e4ced0a-66e2-442a-b020-347d0df4df8f-c000.txt.crc', name='.part-00000-5e4ced0a-66e2-442a-b020-347d0df4df8f-c000.txt.crc', size=276, modificationTime=1711658445000),\n",
       " FileInfo(path='dbfs:/mnt/data/NYSE/_SUCCESS', name='_SUCCESS', size=0, modificationTime=1711658536000),\n",
       " FileInfo(path='dbfs:/mnt/data/NYSE/part-00000-214fff0a-f408-466c-bb15-095cd8b648dc-c000.txt', name='part-00000-214fff0a-f408-466c-bb15-095cd8b648dc-c000.txt', size=34241, modificationTime=1711658536000),\n",
       " FileInfo(path='dbfs:/mnt/data/NYSE/part-00000-5e4ced0a-66e2-442a-b020-347d0df4df8f-c000.txt', name='part-00000-5e4ced0a-66e2-442a-b020-347d0df4df8f-c000.txt', size=34241, modificationTime=1711658445000)]"
      ]
     },
     "execution_count": 247,
     "metadata": {},
     "output_type": "execute_result"
    }
   ],
   "source": [
    "dbutils.fs.unmount('/mnt/data')\n",
    "print('unmount completed')\n",
    "print('begin re-mount')\n",
    "storageAccountName = \"blobcontainershilsdemo\"\n",
    "sasToken = \"sv=2022-11-02&ss=bfqt&srt=sco&sp=rwdlacupiytfx&se=2024-04-01T03:32:10Z&st=2024-03-30T19:32:10Z&spr=https&sig=C1J8SVJZmrzZn8RfyQ1G3KS1kGNQEA6Ve%2BKVPVj9rQc%3D\"\n",
    "blobContainerName = \"democontainer1\"\n",
    "mountPoint = \"/mnt/data/\"\n",
    "print(mountPoint)\n",
    "try:\n",
    "    dbutils.fs.mount(\n",
    "    source = \"wasbs://{}@{}.blob.core.windows.net\".format(blobContainerName, storageAccountName),\n",
    "    mount_point = mountPoint,\n",
    "    #extra_configs = {'fs.azure.account.key.' + storageAccountName + '.blob.core.windows.net': storageAccountAccessKey}\n",
    "    extra_configs = {'fs.azure.sas.' + blobContainerName + '.' + storageAccountName + '.blob.core.windows.net': sasToken}\n",
    ")\n",
    "    print(\"mount succeeded!\")\n",
    "except Exception as e:\n",
    "    print(\"mount exception\", e)\n",
    "\n",
    "# if not any(mount.mountPoint == mountPoint for mount in dbutils.fs.mounts()):\n",
    "#   try:\n",
    "#     dbutils.fs.mount(\n",
    "#       source = \"wasbs://{}@{}.blob.core.windows.net\".format(blobContainerName, storageAccountName),\n",
    "#       mount_point = mountPoint,\n",
    "#       #extra_configs = {'fs.azure.account.key.' + storageAccountName + '.blob.core.windows.net': storageAccountAccessKey}\n",
    "#       extra_configs = {'fs.azure.sas.' + blobContainerName + '.' + storageAccountName + '.blob.core.windows.net': sasToken}\n",
    "#     )\n",
    "#     print(\"mount succeeded!\")\n",
    "#   except Exception as e:\n",
    "#     print(\"mount exception\", e)\n",
    "\n",
    "print('remount completed')\n",
    "\n",
    "dbutils.fs.ls(\"/mnt/data/NYSE\")"
   ]
  },
  {
   "cell_type": "code",
   "execution_count": 0,
   "metadata": {
    "application/vnd.databricks.v1+cell": {
     "cellMetadata": {
      "byteLimit": 2048000,
      "rowLimit": 10000
     },
     "inputWidgets": {},
     "nuid": "883e63f8-1b28-4694-a6f3-b73b6639cdb1",
     "showTitle": false,
     "title": ""
    }
   },
   "outputs": [
    {
     "output_type": "execute_result",
     "data": {
      "text/plain": [
       "[FileInfo(path='dbfs:/mnt/data/NASDAQ/._SUCCESS.crc', name='._SUCCESS.crc', size=8, modificationTime=1711658826000),\n",
       " FileInfo(path='dbfs:/mnt/data/NASDAQ/.part-00000-c6c48831-3d45-4887-ba5f-82060885fc6c-c000.txt.crc', name='.part-00000-c6c48831-3d45-4887-ba5f-82060885fc6c-c000.txt.crc', size=600, modificationTime=1711658826000),\n",
       " FileInfo(path='dbfs:/mnt/data/NASDAQ/_SUCCESS', name='_SUCCESS', size=0, modificationTime=1711658826000),\n",
       " FileInfo(path='dbfs:/mnt/data/NASDAQ/part-00000-c6c48831-3d45-4887-ba5f-82060885fc6c-c000.txt', name='part-00000-c6c48831-3d45-4887-ba5f-82060885fc6c-c000.txt', size=75600, modificationTime=1711658826000)]"
      ]
     },
     "execution_count": 249,
     "metadata": {},
     "output_type": "execute_result"
    }
   ],
   "source": [
    "dbutils.fs.ls(\"/mnt/data/NASDAQ\")"
   ]
  },
  {
   "cell_type": "code",
   "execution_count": 0,
   "metadata": {
    "application/vnd.databricks.v1+cell": {
     "cellMetadata": {
      "byteLimit": 2048000,
      "rowLimit": 10000
     },
     "inputWidgets": {},
     "nuid": "69d95da4-8015-4f4b-bd11-f97ad9227d85",
     "showTitle": false,
     "title": ""
    }
   },
   "outputs": [
    {
     "output_type": "execute_result",
     "data": {
      "text/plain": [
       "[FileInfo(path='dbfs:/mnt/data/NASDAQ1/._SUCCESS.crc', name='._SUCCESS.crc', size=8, modificationTime=1711658980000),\n",
       " FileInfo(path='dbfs:/mnt/data/NASDAQ1/.part-00000-092ec1db-39ab-4079-9580-f7c7b516a283-c000.txt.crc', name='.part-00000-092ec1db-39ab-4079-9580-f7c7b516a283-c000.txt.crc', size=600, modificationTime=1711658980000),\n",
       " FileInfo(path='dbfs:/mnt/data/NASDAQ1/_SUCCESS', name='_SUCCESS', size=0, modificationTime=1711658980000),\n",
       " FileInfo(path='dbfs:/mnt/data/NASDAQ1/part-00000-092ec1db-39ab-4079-9580-f7c7b516a283-c000.txt', name='part-00000-092ec1db-39ab-4079-9580-f7c7b516a283-c000.txt', size=75613, modificationTime=1711658980000)]"
      ]
     },
     "execution_count": 251,
     "metadata": {},
     "output_type": "execute_result"
    }
   ],
   "source": [
    "dbutils.fs.ls(\"/mnt/data/NASDAQ1\")"
   ]
  },
  {
   "cell_type": "code",
   "execution_count": 0,
   "metadata": {
    "application/vnd.databricks.v1+cell": {
     "cellMetadata": {
      "byteLimit": 2048000,
      "rowLimit": 10000
     },
     "inputWidgets": {},
     "nuid": "c8f5a937-ea01-43f1-8888-6968723d87be",
     "showTitle": false,
     "title": ""
    }
   },
   "outputs": [],
   "source": [
    "from pyspark.sql import SparkSession \n",
    "spark = SparkSession.builder.master('local').appName('guided-capstone').getOrCreate()\n",
    "raw = spark.read.format(\"csv\").load(\"dbfs:/mnt/data/NYSE/*.txt\")"
   ]
  },
  {
   "cell_type": "code",
   "execution_count": 0,
   "metadata": {
    "application/vnd.databricks.v1+cell": {
     "cellMetadata": {
      "byteLimit": 2048000,
      "rowLimit": 10000
     },
     "inputWidgets": {},
     "nuid": "7a334bba-4a8c-4f39-82df-0212120d86fc",
     "showTitle": false,
     "title": ""
    }
   },
   "outputs": [
    {
     "output_type": "stream",
     "name": "stdout",
     "output_type": "stream",
     "text": [
      "StructType([StructField('trade_dt', DateType(), True), StructField('event_tm', StringType(), True), StructField('rec_type', StringType(), True), StructField('symbol', StringType(), True), StructField('arrival_tm', StringType(), True), StructField('event_seq_nb', IntegerType(), True), StructField('exchange', StringType(), True), StructField('trade_pr', DecimalType(10,2), True), StructField('trade_size', IntegerType(), True), StructField('bid_pr', DecimalType(10,2), True), StructField('bid_size', IntegerType(), True), StructField('ask_pr', DecimalType(10,2), True), StructField('ask_size', IntegerType(), True), StructField('ext_rec_type', StringType(), True), StructField('flag', StringType(), True)])\n"
     ]
    }
   ],
   "source": [
    "from pyspark.sql import SparkSession \n",
    "from typing import List\n",
    "from pyspark.sql.types import StructType, StructField, DateType, StringType, TimestampType, IntegerType, DecimalType\n",
    "from datetime import datetime\n",
    "from decimal import Decimal\n",
    "import json\n",
    "# from py4j.protocol import Py4JJavaError\n",
    "# from pyspark.sql.utils import AnalysisException\n",
    "\n",
    "# Define the schema for the common event\n",
    "# 2020-08-05,2020-08-05 09:30:00.0,Q,SYMA,2020-08-05 09:34:51.505,1,NYSE,75.30254839137037,100,75.35916738004924,100\n",
    "# 2020-08-05,2020-08-05 09:30:00.0,T,SYMA,2020-08-05 10:37:21.581,10,NYSE,79.19488165597565,912\n",
    "common_event = StructType([\n",
    "    StructField(\"trade_dt\", DateType(), True),\n",
    "    # StructField(\"event_tm\", TimestampType(), True),\n",
    "    StructField(\"event_tm\", StringType(), True),\n",
    "    StructField(\"rec_type\", StringType(), True),\n",
    "    StructField(\"symbol\", StringType(), True),\n",
    "    # StructField(\"arrival_tm\", TimestampType(), True),\n",
    "    StructField(\"arrival_tm\", StringType(), True),\n",
    "    StructField(\"event_seq_nb\", IntegerType(), True),\n",
    "    StructField(\"exchange\", StringType(), True),\n",
    "    StructField(\"trade_pr\", DecimalType(10, 2), True),\n",
    "    StructField(\"trade_size\", IntegerType(), True),\n",
    "    StructField(\"bid_pr\", DecimalType(10, 2), True),\n",
    "    StructField(\"bid_size\", IntegerType(), True),\n",
    "    StructField(\"ask_pr\", DecimalType(10, 2), True),\n",
    "    StructField(\"ask_size\", IntegerType(), True),\n",
    "    StructField(\"ext_rec_type\", StringType(), True),\n",
    "    StructField(\"flag\", StringType(), True)\n",
    "])\n",
    "\n",
    "\n",
    "# Print the schema\n",
    "print(common_event)"
   ]
  },
  {
   "cell_type": "code",
   "execution_count": 0,
   "metadata": {
    "application/vnd.databricks.v1+cell": {
     "cellMetadata": {
      "byteLimit": 2048000,
      "rowLimit": 10000
     },
     "inputWidgets": {},
     "nuid": "2ed69226-ac70-41f1-a7a7-0ae358b6e030",
     "showTitle": false,
     "title": ""
    }
   },
   "outputs": [],
   "source": [
    "from datetime import datetime\n",
    "from decimal import Decimal\n",
    "\n",
    "def parse_csv(row):\n",
    "    record = [row._c0,row._c1,row._c2,row._c3,row._c4,row._c5,row._c6,row._c7,row._c8,row._c9,row._c10]\n",
    "    # print(record)\n",
    "    try:\n",
    "        trade_dt = datetime.strptime(record[0], \"%Y-%m-%d\") if record[0] else None\n",
    "        # event_tm = datetime.strptime(record[1], \"%Y-%m-%d %H:%M:%S\") if record[1] else None\n",
    "        event_tm = record[1]\n",
    "        rec_type = record[2]\n",
    "        symbol = record[3]\n",
    "        # arrival_tm = datetime.strptime(record[4], \"%Y-%m-%d %H:%M:%S\") if record[4] else None\n",
    "        arrival_tm = record[4]\n",
    "        event_seq_nb = int(record[5]) if record[5] else None\n",
    "        exchange = record[6]\n",
    "        #trade_pr = Decimal(record[7]) if record[7] else None\n",
    "        \n",
    "        \n",
    "        if rec_type == \"T\":\n",
    "            # Event for record type \"T\"\n",
    "            trade_pr = Decimal(record[7]) if record[7] else None\n",
    "            trade_size = int(record[8]) if record[8] else None\n",
    "            event = [trade_dt, event_tm, rec_type, symbol, arrival_tm, event_seq_nb, exchange,trade_pr, trade_size, None, None, None, None, \"T\", \"\"]\n",
    "        elif rec_type == \"Q\":\n",
    "            # Event for record type \"Q\"\n",
    "            bid_pr = Decimal(record[7]) if record[7] else None\n",
    "            bid_size = int(record[8]) if record[8] else None\n",
    "            ask_pr = Decimal(record[9]) if record[9] else None\n",
    "            ask_size = int(record[10]) if record[10] else None\n",
    "           \n",
    "            \n",
    "            event = [trade_dt, event_tm, rec_type, symbol, arrival_tm, event_seq_nb, exchange, None, None, bid_pr, bid_size, ask_pr, ask_size, \"Q\", \"\"]\n",
    "        else:\n",
    "            raise ValueError(\"Invalid record type\")\n",
    "        \n",
    "        return event\n",
    "    except Exception as e:\n",
    "        # If there's any error, return a common event with \"B\" as record type\n",
    "        return [None, None, None, None, None, None, None, None, None, None, None, None, None,\"B\", \"\"]\n",
    "\n",
    "# Example usage:\n",
    "# parsed_event = parse_csv(\"2024-03-30,2024-03-30 12:00:00,T,ABC,2024-03-30 12:00:00,1,EX,10.0\")\n",
    "# print(parsed_event)\n",
    "\n",
    "parsed = raw.rdd.map(parse_csv)\n",
    "# data = spark.createDataFrame(parsed)\n",
    "\n"
   ]
  },
  {
   "cell_type": "code",
   "execution_count": 0,
   "metadata": {
    "application/vnd.databricks.v1+cell": {
     "cellMetadata": {
      "byteLimit": 2048000,
      "rowLimit": 10000
     },
     "inputWidgets": {},
     "nuid": "b6d44998-5f14-430b-9c12-7f4797a20d26",
     "showTitle": false,
     "title": ""
    }
   },
   "outputs": [
    {
     "output_type": "stream",
     "name": "stdout",
     "output_type": "stream",
     "text": [
      "+----------+--------------------+--------+------+--------------------+------------+--------+--------+----------+------+--------+------+--------+------------+----+\n|  trade_dt|            event_tm|rec_type|symbol|          arrival_tm|event_seq_nb|exchange|trade_pr|trade_size|bid_pr|bid_size|ask_pr|ask_size|ext_rec_type|flag|\n+----------+--------------------+--------+------+--------------------+------------+--------+--------+----------+------+--------+------+--------+------------+----+\n|2020-08-06|2020-08-06 09:30:...|       Q|  SYMA|2020-08-06 09:39:...|           1|    NYSE|    NULL|      NULL| 77.68|     100| 78.44|     100|           Q|    |\n|2020-08-06|2020-08-06 09:30:...|       Q|  SYMA|2020-08-06 09:47:...|           2|    NYSE|    NULL|      NULL| 76.53|     100| 76.94|     100|           Q|    |\n|2020-08-06|2020-08-06 09:30:...|       Q|  SYMA|2020-08-06 09:56:...|           3|    NYSE|    NULL|      NULL| 75.12|     100| 75.39|     100|           Q|    |\n|2020-08-06|2020-08-06 09:30:...|       Q|  SYMA|2020-08-06 10:03:...|           4|    NYSE|    NULL|      NULL| 74.86|     100| 75.77|     100|           Q|    |\n|2020-08-06|2020-08-06 09:30:...|       Q|  SYMA|2020-08-06 10:09:...|           5|    NYSE|    NULL|      NULL| 77.78|     100| 78.80|     100|           Q|    |\n|2020-08-06|2020-08-06 09:30:...|       Q|  SYMA|2020-08-06 10:18:...|           6|    NYSE|    NULL|      NULL| 75.03|     100| 75.69|     100|           Q|    |\n|2020-08-06|2020-08-06 09:30:...|       Q|  SYMA|2020-08-06 10:25:...|           7|    NYSE|    NULL|      NULL| 75.36|     100| 75.46|     100|           Q|    |\n|2020-08-06|2020-08-06 09:30:...|       Q|  SYMA|2020-08-06 10:34:...|           8|    NYSE|    NULL|      NULL| 78.59|     100| 78.60|     100|           Q|    |\n|2020-08-06|2020-08-06 09:30:...|       Q|  SYMA|2020-08-06 10:41:...|           9|    NYSE|    NULL|      NULL| 75.71|     100| 76.89|     100|           Q|    |\n|2020-08-06|2020-08-06 09:30:...|       T|  SYMA|2020-08-06 10:49:...|          10|    NYSE|   74.49|        27|  NULL|    NULL|  NULL|    NULL|           T|    |\n|2020-08-06|2020-08-06 09:30:...|       Q|  SYMA|2020-08-06 10:55:...|          11|    NYSE|    NULL|      NULL| 78.31|     100| 79.48|     100|           Q|    |\n|2020-08-06|2020-08-06 09:30:...|       Q|  SYMA|2020-08-06 11:03:...|          12|    NYSE|    NULL|      NULL| 77.98|     100| 79.29|     100|           Q|    |\n|2020-08-06|2020-08-06 09:30:...|       Q|  SYMA|2020-08-06 11:12:...|          13|    NYSE|    NULL|      NULL| 75.01|     100| 75.33|     100|           Q|    |\n|2020-08-06|2020-08-06 09:30:...|       Q|  SYMA|2020-08-06 11:20:...|          14|    NYSE|    NULL|      NULL| 75.20|     100| 77.10|     100|           Q|    |\n|2020-08-06|2020-08-06 09:30:...|       Q|  SYMA|2020-08-06 11:27:...|          15|    NYSE|    NULL|      NULL| 75.49|     100| 76.72|     100|           Q|    |\n|2020-08-06|2020-08-06 09:30:...|       Q|  SYMA|2020-08-06 11:32:...|          16|    NYSE|    NULL|      NULL| 77.78|     100| 78.86|     100|           Q|    |\n|2020-08-06|2020-08-06 09:30:...|       Q|  SYMA|2020-08-06 11:39:...|          17|    NYSE|    NULL|      NULL| 77.31|     100| 79.10|     100|           Q|    |\n|2020-08-06|2020-08-06 09:30:...|       Q|  SYMA|2020-08-06 11:45:...|          18|    NYSE|    NULL|      NULL| 79.17|     100| 80.35|     100|           Q|    |\n|2020-08-06|2020-08-06 09:30:...|       Q|  SYMA|2020-08-06 11:53:...|          19|    NYSE|    NULL|      NULL| 77.16|     100| 78.59|     100|           Q|    |\n|2020-08-06|2020-08-06 09:30:...|       T|  SYMA|2020-08-06 12:00:...|          20|    NYSE|   76.16|       315|  NULL|    NULL|  NULL|    NULL|           T|    |\n+----------+--------------------+--------+------+--------------------+------------+--------+--------+----------+------+--------+------+--------+------------+----+\nonly showing top 20 rows\n\n"
     ]
    }
   ],
   "source": [
    "df = spark.createDataFrame(parsed, common_event)\n",
    "df.show()"
   ]
  },
  {
   "cell_type": "code",
   "execution_count": 0,
   "metadata": {
    "application/vnd.databricks.v1+cell": {
     "cellMetadata": {
      "byteLimit": 2048000,
      "rowLimit": 10000
     },
     "inputWidgets": {},
     "nuid": "233fdad7-6df1-40da-ac7f-48a8a57bddb9",
     "showTitle": false,
     "title": ""
    }
   },
   "outputs": [],
   "source": [
    "dbutils.fs.mkdirs(\"dbfs:/mnt/data/output_csv\")\n",
    "output_dir = \"/mnt/data/output_csv\"\n",
    "df.write.partitionBy(\"rec_type\").mode(\"overwrite\").parquet(output_dir)"
   ]
  },
  {
   "cell_type": "code",
   "execution_count": 0,
   "metadata": {
    "application/vnd.databricks.v1+cell": {
     "cellMetadata": {
      "byteLimit": 2048000,
      "rowLimit": 10000
     },
     "inputWidgets": {},
     "nuid": "256916f3-2bdd-4752-9b3b-0d201f887f46",
     "showTitle": false,
     "title": ""
    }
   },
   "outputs": [
    {
     "output_type": "stream",
     "name": "stdout",
     "output_type": "stream",
     "text": [
      "[datetime.datetime(2020, 8, 6, 0, 0), '2020-08-06 09:30:00.0', 'Q', 'SYMA', '2020-08-06 09:39:01.293', 1, 'NYSE', None, None, Decimal('77.67912845315918'), 100, Decimal('78.43735795018011'), 100, 'Q', '']\n[datetime.datetime(2020, 8, 6, 0, 0), '2020-08-06 09:30:00.0', 'Q', 'SYMA', '2020-08-06 09:47:20.398', 2, 'NYSE', None, None, Decimal('76.53373290281257'), 100, Decimal('76.94424897980778'), 100, 'Q', '']\n[datetime.datetime(2020, 8, 6, 0, 0), '2020-08-06 09:30:00.0', 'Q', 'SYMA', '2020-08-06 09:56:26.402', 3, 'NYSE', None, None, Decimal('75.12060723753581'), 100, Decimal('75.39408189677017'), 100, 'Q', '']\n[datetime.datetime(2020, 8, 6, 0, 0), '2020-08-06 09:30:00.0', 'Q', 'SYMA', '2020-08-06 10:03:59.522', 4, 'NYSE', None, None, Decimal('74.86368997537707'), 100, Decimal('75.76860454779845'), 100, 'Q', '']\n[datetime.datetime(2020, 8, 6, 0, 0), '2020-08-06 09:30:00.0', 'Q', 'SYMA', '2020-08-06 10:09:53.165', 5, 'NYSE', None, None, Decimal('77.77650010059894'), 100, Decimal('78.8010914613886'), 100, 'Q', '']\n[datetime.datetime(2020, 8, 6, 0, 0), '2020-08-06 09:30:00.0', 'Q', 'SYMA', '2020-08-06 10:18:55.618', 6, 'NYSE', None, None, Decimal('75.02947234883071'), 100, Decimal('75.69057615526998'), 100, 'Q', '']\n[datetime.datetime(2020, 8, 6, 0, 0), '2020-08-06 09:30:00.0', 'Q', 'SYMA', '2020-08-06 10:25:54.959', 7, 'NYSE', None, None, Decimal('75.36016120122032'), 100, Decimal('75.46482140816315'), 100, 'Q', '']\n[datetime.datetime(2020, 8, 6, 0, 0), '2020-08-06 09:30:00.0', 'Q', 'SYMA', '2020-08-06 10:34:34.929', 8, 'NYSE', None, None, Decimal('78.58504907098326'), 100, Decimal('78.60169294366436'), 100, 'Q', '']\n[datetime.datetime(2020, 8, 6, 0, 0), '2020-08-06 09:30:00.0', 'Q', 'SYMA', '2020-08-06 10:41:24.664', 9, 'NYSE', None, None, Decimal('75.70570102127155'), 100, Decimal('76.89215809308386'), 100, 'Q', '']\n[datetime.datetime(2020, 8, 6, 0, 0), '2020-08-06 09:30:00.0', 'T', 'SYMA', '2020-08-06 10:49:37.345', 10, 'NYSE', Decimal('74.4937735469071'), 27, None, None, None, None, 'T', '']\n[datetime.datetime(2020, 8, 6, 0, 0), '2020-08-06 09:30:00.0', 'Q', 'SYMA', '2020-08-06 10:55:42.576', 11, 'NYSE', None, None, Decimal('78.31055637708282'), 100, Decimal('79.47635374656346'), 100, 'Q', '']\n[datetime.datetime(2020, 8, 6, 0, 0), '2020-08-06 09:30:00.0', 'Q', 'SYMA', '2020-08-06 11:03:19.617', 12, 'NYSE', None, None, Decimal('77.97817204740686'), 100, Decimal('79.28954126455572'), 100, 'Q', '']\n[datetime.datetime(2020, 8, 6, 0, 0), '2020-08-06 09:30:00.0', 'Q', 'SYMA', '2020-08-06 11:12:25.921', 13, 'NYSE', None, None, Decimal('75.00774580189444'), 100, Decimal('75.329899017342'), 100, 'Q', '']\n[datetime.datetime(2020, 8, 6, 0, 0), '2020-08-06 09:30:00.0', 'Q', 'SYMA', '2020-08-06 11:20:30.462', 14, 'NYSE', None, None, Decimal('75.2034625862805'), 100, Decimal('77.09723627799544'), 100, 'Q', '']\n[datetime.datetime(2020, 8, 6, 0, 0), '2020-08-06 09:30:00.0', 'Q', 'SYMA', '2020-08-06 11:27:19.528', 15, 'NYSE', None, None, Decimal('75.49015416923808'), 100, Decimal('76.72422161259217'), 100, 'Q', '']\n[datetime.datetime(2020, 8, 6, 0, 0), '2020-08-06 09:30:00.0', 'Q', 'SYMA', '2020-08-06 11:32:20.377', 16, 'NYSE', None, None, Decimal('77.77659540343343'), 100, Decimal('78.86235377249426'), 100, 'Q', '']\n[datetime.datetime(2020, 8, 6, 0, 0), '2020-08-06 09:30:00.0', 'Q', 'SYMA', '2020-08-06 11:39:45.936', 17, 'NYSE', None, None, Decimal('77.31390620927456'), 100, Decimal('79.10031949730782'), 100, 'Q', '']\n[datetime.datetime(2020, 8, 6, 0, 0), '2020-08-06 09:30:00.0', 'Q', 'SYMA', '2020-08-06 11:45:56.017', 18, 'NYSE', None, None, Decimal('79.17367290487364'), 100, Decimal('80.35080808400612'), 100, 'Q', '']\n[datetime.datetime(2020, 8, 6, 0, 0), '2020-08-06 09:30:00.0', 'Q', 'SYMA', '2020-08-06 11:53:16.208', 19, 'NYSE', None, None, Decimal('77.16183221927379'), 100, Decimal('78.59092887559557'), 100, 'Q', '']\n[datetime.datetime(2020, 8, 6, 0, 0), '2020-08-06 09:30:00.0', 'T', 'SYMA', '2020-08-06 12:00:11.545', 20, 'NYSE', Decimal('76.16119459402981'), 315, None, None, None, None, 'T', '']\n[datetime.datetime(2020, 8, 6, 0, 0), '2020-08-06 09:30:00.0', 'Q', 'SYMA', '2020-08-06 12:09:41.326', 21, 'NYSE', None, None, Decimal('74.884617278851'), 100, Decimal('75.63901010296551'), 100, 'Q', '']\n[datetime.datetime(2020, 8, 6, 0, 0), '2020-08-06 09:30:00.0', 'Q', 'SYMA', '2020-08-06 12:18:22.965', 22, 'NYSE', None, None, Decimal('76.77406463345044'), 100, Decimal('78.56097423665531'), 100, 'Q', '']\n[datetime.datetime(2020, 8, 6, 0, 0), '2020-08-06 09:30:00.0', 'Q', 'SYMA', '2020-08-06 12:25:07.742', 23, 'NYSE', None, None, Decimal('75.50097292500807'), 100, Decimal('75.62914287529526'), 100, 'Q', '']\n[datetime.datetime(2020, 8, 6, 0, 0), '2020-08-06 09:30:00.0', 'Q', 'SYMA', '2020-08-06 12:33:24.195', 24, 'NYSE', None, None, Decimal('78.62596462109627'), 100, Decimal('80.02228030115273'), 100, 'Q', '']\n[datetime.datetime(2020, 8, 6, 0, 0), '2020-08-06 09:30:00.0', 'Q', 'SYMA', '2020-08-06 12:38:35.367', 25, 'NYSE', None, None, Decimal('79.24137993849361'), 100, Decimal('79.52636392718142'), 100, 'Q', '']\n[datetime.datetime(2020, 8, 6, 0, 0), '2020-08-06 09:30:00.0', 'Q', 'SYMA', '2020-08-06 12:45:34.083', 26, 'NYSE', None, None, Decimal('77.7558594574886'), 100, Decimal('78.79128290701789'), 100, 'Q', '']\n[datetime.datetime(2020, 8, 6, 0, 0), '2020-08-06 09:30:00.0', 'Q', 'SYMA', '2020-08-06 12:52:55.882', 27, 'NYSE', None, None, Decimal('76.99782591393891'), 100, Decimal('78.24038396181756'), 100, 'Q', '']\n[datetime.datetime(2020, 8, 6, 0, 0), '2020-08-06 09:30:00.0', 'Q', 'SYMA', '2020-08-06 13:01:21.888', 28, 'NYSE', None, None, Decimal('76.88607003039235'), 100, Decimal('77.37887803589072'), 100, 'Q', '']\n[datetime.datetime(2020, 8, 6, 0, 0), '2020-08-06 09:30:00.0', 'Q', 'SYMA', '2020-08-06 13:06:51.806', 29, 'NYSE', None, None, Decimal('77.77401306159616'), 100, Decimal('78.81670358504341'), 100, 'Q', '']\n[datetime.datetime(2020, 8, 6, 0, 0), '2020-08-06 09:30:00.0', 'T', 'SYMA', '2020-08-06 13:11:57.308', 30, 'NYSE', Decimal('76.89963550257767'), 755, None, None, None, None, 'T', '']\n[datetime.datetime(2020, 8, 6, 0, 0), '2020-08-06 09:30:00.0', 'Q', 'SYMA', '2020-08-06 13:20:13.217', 31, 'NYSE', None, None, Decimal('77.54600900193435'), 100, Decimal('78.91553801932147'), 100, 'Q', '']\n[datetime.datetime(2020, 8, 6, 0, 0), '2020-08-06 09:30:00.0', 'Q', 'SYMA', '2020-08-06 13:27:17.268', 32, 'NYSE', None, None, Decimal('75.14476249264526'), 100, Decimal('76.41066209848552'), 100, 'Q', '']\n[datetime.datetime(2020, 8, 6, 0, 0), '2020-08-06 09:30:00.0', 'Q', 'SYMA', '2020-08-06 13:32:28.864', 33, 'NYSE', None, None, Decimal('77.13289579176785'), 100, Decimal('77.59677977007688'), 100, 'Q', '']\n[datetime.datetime(2020, 8, 6, 0, 0), '2020-08-06 09:30:00.0', 'Q', 'SYMA', '2020-08-06 13:37:45.165', 34, 'NYSE', None, None, Decimal('77.46286332752824'), 100, Decimal('78.79643278015841'), 100, 'Q', '']\n[datetime.datetime(2020, 8, 6, 0, 0), '2020-08-06 09:30:00.0', 'Q', 'SYMA', '2020-08-06 13:46:37.106', 35, 'NYSE', None, None, Decimal('79.29898094381345'), 100, Decimal('81.2745702134831'), 100, 'Q', '']\n[datetime.datetime(2020, 8, 6, 0, 0), '2020-08-06 09:30:00.0', 'Q', 'SYMA', '2020-08-06 13:54:59.362', 36, 'NYSE', None, None, Decimal('77.92609368622715'), 100, Decimal('79.1672350701433'), 100, 'Q', '']\n[datetime.datetime(2020, 8, 6, 0, 0), '2020-08-06 09:30:00.0', 'Q', 'SYMA', '2020-08-06 14:02:04.803', 37, 'NYSE', None, None, Decimal('74.69977692511625'), 100, Decimal('75.93272991995036'), 100, 'Q', '']\n[datetime.datetime(2020, 8, 6, 0, 0), '2020-08-06 09:30:00.0', 'Q', 'SYMA', '2020-08-06 14:09:50.673', 38, 'NYSE', None, None, Decimal('76.63519600180598'), 100, Decimal('76.80908701679996'), 100, 'Q', '']\n[datetime.datetime(2020, 8, 6, 0, 0), '2020-08-06 09:30:00.0', 'Q', 'SYMA', '2020-08-06 14:17:43.574', 39, 'NYSE', None, None, Decimal('75.43854142558534'), 100, Decimal('75.5964366393803'), 100, 'Q', '']\n[datetime.datetime(2020, 8, 6, 0, 0), '2020-08-06 09:30:00.0', 'T', 'SYMA', '2020-08-06 14:27:13.014', 40, 'NYSE', Decimal('77.1155186423281'), 81, None, None, None, None, 'T', '']\n[datetime.datetime(2020, 8, 6, 0, 0), '2020-08-06 09:30:00.0', 'Q', 'SYMA', '2020-08-06 14:34:47.085', 41, 'NYSE', None, None, Decimal('78.82067769631522'), 100, Decimal('80.75448341534019'), 100, 'Q', '']\n[datetime.datetime(2020, 8, 6, 0, 0), '2020-08-06 09:30:00.0', 'Q', 'SYMA', '2020-08-06 14:42:11.812', 42, 'NYSE', None, None, Decimal('77.09913925672284'), 100, Decimal('77.19794227333365'), 100, 'Q', '']\n[datetime.datetime(2020, 8, 6, 0, 0), '2020-08-06 09:30:00.0', 'Q', 'SYMA', '2020-08-06 14:48:58.298', 43, 'NYSE', None, None, Decimal('74.75747167270546'), 100, Decimal('74.99914520482766'), 100, 'Q', '']\n[datetime.datetime(2020, 8, 6, 0, 0), '2020-08-06 09:30:00.0', 'Q', 'SYMA', '2020-08-06 14:57:32.466', 44, 'NYSE', None, None, Decimal('74.83877703108848'), 100, Decimal('75.40668810027327'), 100, 'Q', '']\n[datetime.datetime(2020, 8, 6, 0, 0), '2020-08-06 09:30:00.0', 'Q', 'SYMA', '2020-08-06 15:04:20.492', 45, 'NYSE', None, None, Decimal('76.13854904625202'), 100, Decimal('78.06057907336418'), 100, 'Q', '']\n[datetime.datetime(2020, 8, 6, 0, 0), '2020-08-06 09:30:00.0', 'Q', 'SYMA', '2020-08-06 15:12:49.172', 46, 'NYSE', None, None, Decimal('76.39780084178598'), 100, Decimal('78.06379554173964'), 100, 'Q', '']\n[datetime.datetime(2020, 8, 6, 0, 0), '2020-08-06 09:30:00.0', 'Q', 'SYMA', '2020-08-06 15:17:45.541', 47, 'NYSE', None, None, Decimal('77.17355871920665'), 100, Decimal('79.01757070882466'), 100, 'Q', '']\n[datetime.datetime(2020, 8, 6, 0, 0), '2020-08-06 09:30:00.0', 'Q', 'SYMA', '2020-08-06 15:26:00.294', 48, 'NYSE', None, None, Decimal('75.10605989022301'), 100, Decimal('75.8425200816335'), 100, 'Q', '']\n[datetime.datetime(2020, 8, 6, 0, 0), '2020-08-06 09:30:00.0', 'Q', 'SYMA', '2020-08-06 15:32:50.257', 49, 'NYSE', None, None, Decimal('77.85228040178876'), 100, Decimal('79.05395214401088'), 100, 'Q', '']\n[datetime.datetime(2020, 8, 6, 0, 0), '2020-08-06 09:30:00.0', 'T', 'SYMA', '2020-08-06 15:39:08.521', 50, 'NYSE', Decimal('76.37442161362104'), 744, None, None, None, None, 'T', '']\n[datetime.datetime(2020, 8, 6, 0, 0), '2020-08-06 09:30:00.0', 'Q', 'SYMA', '2020-08-06 15:48:03.872', 51, 'NYSE', None, None, Decimal('78.20019031517049'), 100, Decimal('80.11614085947541'), 100, 'Q', '']\n[datetime.datetime(2020, 8, 6, 0, 0), '2020-08-06 09:30:00.0', 'Q', 'SYMA', '2020-08-06 15:55:31.634', 52, 'NYSE', None, None, Decimal('77.20002687901275'), 100, Decimal('77.46213855712405'), 100, 'Q', '']\n[datetime.datetime(2020, 8, 6, 0, 0), '2020-08-06 09:30:00.0', 'Q', 'SYMA', '2020-08-06 16:04:09.571', 53, 'NYSE', None, None, Decimal('77.48859849926536'), 100, Decimal('78.93310011518543'), 100, 'Q', '']\n[datetime.datetime(2020, 8, 6, 0, 0), '2020-08-06 09:30:00.0', 'Q', 'SYMA', '2020-08-06 16:13:15.559', 54, 'NYSE', None, None, Decimal('78.31109401810035'), 100, Decimal('79.75502479491647'), 100, 'Q', '']\n[datetime.datetime(2020, 8, 6, 0, 0), '2020-08-06 09:30:00.0', 'Q', 'SYMA', '2020-08-06 16:22:09.718', 55, 'NYSE', None, None, Decimal('79.20979510212422'), 100, Decimal('80.53262306685491'), 100, 'Q', '']\n[datetime.datetime(2020, 8, 6, 0, 0), '2020-08-06 09:30:00.0', 'Q', 'SYMA', '2020-08-06 16:27:39.821', 56, 'NYSE', None, None, Decimal('77.0795318654348'), 100, Decimal('78.33919065813802'), 100, 'Q', '']\n[datetime.datetime(2020, 8, 6, 0, 0), '2020-08-06 09:30:00.0', 'Q', 'SYMA', '2020-08-06 16:33:46.316', 57, 'NYSE', None, None, Decimal('75.55968319703676'), 100, Decimal('75.80726243086237'), 100, 'Q', '']\n[datetime.datetime(2020, 8, 6, 0, 0), '2020-08-06 09:30:00.0', 'Q', 'SYMA', '2020-08-06 16:40:32.472', 58, 'NYSE', None, None, Decimal('75.95807392268793'), 100, Decimal('76.38929760444795'), 100, 'Q', '']\n[datetime.datetime(2020, 8, 6, 0, 0), '2020-08-06 09:30:00.0', 'Q', 'SYMA', '2020-08-06 16:50:06.784', 59, 'NYSE', None, None, Decimal('75.95351421956174'), 100, Decimal('75.9800697386948'), 100, 'Q', '']\n[datetime.datetime(2020, 8, 6, 0, 0), '2020-08-06 09:30:00.0', 'T', 'SYMA', '2020-08-06 16:58:58.633', 60, 'NYSE', Decimal('78.32363638620622'), 857, None, None, None, None, 'T', '']\n[datetime.datetime(2020, 8, 6, 0, 0), '2020-08-06 09:30:00.0', 'Q', 'SYMA', '2020-08-06 17:04:31.576', 61, 'NYSE', None, None, Decimal('76.56333732133346'), 100, Decimal('76.68272088122552'), 100, 'Q', '']\n[datetime.datetime(2020, 8, 6, 0, 0), '2020-08-06 09:30:00.0', 'Q', 'SYMA', '2020-08-06 17:13:32.631', 62, 'NYSE', None, None, Decimal('79.14209003156957'), 100, Decimal('80.24765332001878'), 100, 'Q', '']\n[datetime.datetime(2020, 8, 6, 0, 0), '2020-08-06 09:30:00.0', 'Q', 'SYMA', '2020-08-06 17:21:27.885', 63, 'NYSE', None, None, Decimal('78.07619642067817'), 100, Decimal('79.22127335841192'), 100, 'Q', '']\n[datetime.datetime(2020, 8, 6, 0, 0), '2020-08-06 09:30:00.0', 'Q', 'SYMA', '2020-08-06 17:28:15.902', 64, 'NYSE', None, None, Decimal('79.16484693662996'), 100, Decimal('80.73225110733966'), 100, 'Q', '']\n[datetime.datetime(2020, 8, 6, 0, 0), '2020-08-06 09:30:00.0', 'Q', 'SYMA', '2020-08-06 17:34:04.666', 65, 'NYSE', None, None, Decimal('74.99928488882026'), 100, Decimal('75.98745250254919'), 100, 'Q', '']\n[datetime.datetime(2020, 8, 6, 0, 0), '2020-08-06 09:30:00.0', 'Q', 'SYMA', '2020-08-06 17:43:31.929', 66, 'NYSE', None, None, Decimal('76.76758721782973'), 100, Decimal('77.52992466734187'), 100, 'Q', '']\n[datetime.datetime(2020, 8, 6, 0, 0), '2020-08-06 09:30:00.0', 'Q', 'SYMA', '2020-08-06 17:52:57.953', 67, 'NYSE', None, None, Decimal('76.88739606088755'), 100, Decimal('77.7133192050788'), 100, 'Q', '']\n[datetime.datetime(2020, 8, 6, 0, 0), '2020-08-06 09:30:00.0', 'Q', 'SYMA', '2020-08-06 18:01:15.431', 68, 'NYSE', None, None, Decimal('79.32805179896513'), 100, Decimal('81.22252869517914'), 100, 'Q', '']\n[datetime.datetime(2020, 8, 6, 0, 0), '2020-08-06 09:30:00.0', 'Q', 'SYMA', '2020-08-06 18:08:58.256', 69, 'NYSE', None, None, Decimal('75.54449587635618'), 100, Decimal('77.16118144376208'), 100, 'Q', '']\n[datetime.datetime(2020, 8, 6, 0, 0), '2020-08-06 09:30:00.0', 'T', 'SYMA', '2020-08-06 18:14:28.899', 70, 'NYSE', Decimal('78.23471404145394'), 125, None, None, None, None, 'T', '']\n[datetime.datetime(2020, 8, 6, 0, 0), '2020-08-06 09:30:00.0', 'Q', 'SYMA', '2020-08-06 18:23:04.317', 71, 'NYSE', None, None, Decimal('76.48323231205478'), 100, Decimal('76.7314199378661'), 100, 'Q', '']\n[datetime.datetime(2020, 8, 6, 0, 0), '2020-08-06 09:30:00.0', 'Q', 'SYMA', '2020-08-06 18:31:17.642', 72, 'NYSE', None, None, Decimal('77.14931836432513'), 100, Decimal('78.09053364691815'), 100, 'Q', '']\n[datetime.datetime(2020, 8, 6, 0, 0), '2020-08-06 09:30:00.0', 'Q', 'SYMA', '2020-08-06 18:37:03.342', 73, 'NYSE', None, None, Decimal('75.20446212236945'), 100, Decimal('76.86818770421502'), 100, 'Q', '']\n[datetime.datetime(2020, 8, 6, 0, 0), '2020-08-06 09:30:00.0', 'Q', 'SYMA', '2020-08-06 18:44:22.06', 74, 'NYSE', None, None, Decimal('77.13293071755356'), 100, Decimal('78.4012401215132'), 100, 'Q', '']\n[datetime.datetime(2020, 8, 6, 0, 0), '2020-08-06 09:30:00.0', 'Q', 'SYMA', '2020-08-06 18:53:51.793', 75, 'NYSE', None, None, Decimal('74.47250765514704'), 100, Decimal('76.3295636985494'), 100, 'Q', '']\n[datetime.datetime(2020, 8, 6, 0, 0), '2020-08-06 09:30:00.0', 'Q', 'SYMA', '2020-08-06 19:01:36.972', 76, 'NYSE', None, None, Decimal('75.43971655669715'), 100, Decimal('75.57063851945786'), 100, 'Q', '']\n[datetime.datetime(2020, 8, 6, 0, 0), '2020-08-06 09:30:00.0', 'Q', 'SYMA', '2020-08-06 19:08:50.076', 77, 'NYSE', None, None, Decimal('78.63833169767423'), 100, Decimal('79.52327892512565'), 100, 'Q', '']\n[datetime.datetime(2020, 8, 6, 0, 0), '2020-08-06 09:30:00.0', 'Q', 'SYMA', '2020-08-06 19:16:34.266', 78, 'NYSE', None, None, Decimal('78.9401878950973'), 100, Decimal('79.57969114655128'), 100, 'Q', '']\n[datetime.datetime(2020, 8, 6, 0, 0), '2020-08-06 09:30:00.0', 'Q', 'SYMA', '2020-08-06 19:21:36.172', 79, 'NYSE', None, None, Decimal('75.13543777361556'), 100, Decimal('75.38921103543053'), 100, 'Q', '']\n[datetime.datetime(2020, 8, 6, 0, 0), '2020-08-06 09:30:00.0', 'T', 'SYMA', '2020-08-06 19:28:22.629', 80, 'NYSE', Decimal('76.52898141486219'), 98, None, None, None, None, 'T', '']\n[datetime.datetime(2020, 8, 6, 0, 0), '2020-08-06 09:30:00.0', 'Q', 'SYMA', '2020-08-06 19:35:05.81', 81, 'NYSE', None, None, Decimal('75.87112924685681'), 100, Decimal('77.82034118291077'), 100, 'Q', '']\n[datetime.datetime(2020, 8, 6, 0, 0), '2020-08-06 09:30:00.0', 'Q', 'SYMA', '2020-08-06 19:43:42.686', 82, 'NYSE', None, None, Decimal('76.73076622201476'), 100, Decimal('77.51380829820091'), 100, 'Q', '']\n[datetime.datetime(2020, 8, 6, 0, 0), '2020-08-06 09:30:00.0', 'Q', 'SYMA', '2020-08-06 19:50:09.552', 83, 'NYSE', None, None, Decimal('79.36629577489073'), 100, Decimal('80.46915228648693'), 100, 'Q', '']\n[datetime.datetime(2020, 8, 6, 0, 0), '2020-08-06 09:30:00.0', 'Q', 'SYMA', '2020-08-06 19:57:58.964', 84, 'NYSE', None, None, Decimal('74.86010465788733'), 100, Decimal('75.57482161878288'), 100, 'Q', '']\n[datetime.datetime(2020, 8, 6, 0, 0), '2020-08-06 09:30:00.0', 'Q', 'SYMA', '2020-08-06 20:06:50.524', 85, 'NYSE', None, None, Decimal('75.3206126733856'), 100, Decimal('77.17798209452987'), 100, 'Q', '']\n[datetime.datetime(2020, 8, 6, 0, 0), '2020-08-06 09:30:00.0', 'Q', 'SYMA', '2020-08-06 20:16:02.926', 86, 'NYSE', None, None, Decimal('76.68663101058802'), 100, Decimal('77.60120958626024'), 100, 'Q', '']\n[datetime.datetime(2020, 8, 6, 0, 0), '2020-08-06 09:30:00.0', 'Q', 'SYMA', '2020-08-06 20:25:25.947', 87, 'NYSE', None, None, Decimal('77.01157835762984'), 100, Decimal('78.78747521767109'), 100, 'Q', '']\n[datetime.datetime(2020, 8, 6, 0, 0), '2020-08-06 09:30:00.0', 'Q', 'SYMA', '2020-08-06 20:31:35.793', 88, 'NYSE', None, None, Decimal('78.22653075350881'), 100, Decimal('79.0199065451144'), 100, 'Q', '']\n[datetime.datetime(2020, 8, 6, 0, 0), '2020-08-06 09:30:00.0', 'Q', 'SYMA', '2020-08-06 20:39:43.453', 89, 'NYSE', None, None, Decimal('78.19145456562538'), 100, Decimal('79.01832489855987'), 100, 'Q', '']\n[datetime.datetime(2020, 8, 6, 0, 0), '2020-08-06 09:30:00.0', 'T', 'SYMA', '2020-08-06 20:49:10.946', 90, 'NYSE', Decimal('75.71484703599852'), 546, None, None, None, None, 'T', '']\n[datetime.datetime(2020, 8, 6, 0, 0), '2020-08-06 09:30:00.0', 'Q', 'SYMA', '2020-08-06 20:57:01.766', 91, 'NYSE', None, None, Decimal('79.25041321651268'), 100, Decimal('79.28607550975724'), 100, 'Q', '']\n[datetime.datetime(2020, 8, 6, 0, 0), '2020-08-06 09:30:00.0', 'Q', 'SYMA', '2020-08-06 21:04:40.263', 92, 'NYSE', None, None, Decimal('75.75031441064301'), 100, Decimal('77.6674443132043'), 100, 'Q', '']\n[datetime.datetime(2020, 8, 6, 0, 0), '2020-08-06 09:30:00.0', 'Q', 'SYMA', '2020-08-06 21:10:39.028', 93, 'NYSE', None, None, Decimal('78.67092041531649'), 100, Decimal('79.76747290267174'), 100, 'Q', '']\n[datetime.datetime(2020, 8, 6, 0, 0), '2020-08-06 09:30:00.0', 'Q', 'SYMA', '2020-08-06 21:15:43.645', 94, 'NYSE', None, None, Decimal('75.45908032039709'), 100, Decimal('75.62041963500181'), 100, 'Q', '']\n[datetime.datetime(2020, 8, 6, 0, 0), '2020-08-06 09:30:00.0', 'Q', 'SYMA', '2020-08-06 21:21:15.18', 95, 'NYSE', None, None, Decimal('76.38393518539786'), 100, Decimal('76.80352276445885'), 100, 'Q', '']\n[datetime.datetime(2020, 8, 6, 0, 0), '2020-08-06 09:30:00.0', 'Q', 'SYMA', '2020-08-06 21:28:36.146', 96, 'NYSE', None, None, Decimal('75.80962819675109'), 100, Decimal('76.12942745037904'), 100, 'Q', '']\n[datetime.datetime(2020, 8, 6, 0, 0), '2020-08-06 09:30:00.0', 'Q', 'SYMA', '2020-08-06 21:36:43.987', 97, 'NYSE', None, None, Decimal('78.62732313924076'), 100, Decimal('78.88502297655366'), 100, 'Q', '']\n[datetime.datetime(2020, 8, 6, 0, 0), '2020-08-06 09:30:00.0', 'Q', 'SYMA', '2020-08-06 21:43:51.347', 98, 'NYSE', None, None, Decimal('75.68045695226793'), 100, Decimal('75.89484846999227'), 100, 'Q', '']\n[datetime.datetime(2020, 8, 6, 0, 0), '2020-08-06 09:30:00.0', 'Q', 'SYMA', '2020-08-06 21:51:49.094', 99, 'NYSE', None, None, Decimal('76.5382010839026'), 100, Decimal('76.82801387203371'), 100, 'Q', '']\n[datetime.datetime(2020, 8, 6, 0, 0), '2020-08-06 09:30:00.0', 'T', 'SYMA', '2020-08-06 22:00:18.406', 100, 'NYSE', Decimal('76.30847130527823'), 471, None, None, None, None, 'T', '']\n[datetime.datetime(2020, 8, 6, 0, 0), '2020-08-06 09:30:00.0', 'Q', 'SYMB', '2020-08-06 09:37:57.736', 1, 'NYSE', None, None, Decimal('34.22042126476181'), 100, Decimal('35.47752046389134'), 100, 'Q', '']\n[datetime.datetime(2020, 8, 6, 0, 0), '2020-08-06 09:30:00.0', 'Q', 'SYMB', '2020-08-06 09:45:57.819', 2, 'NYSE', None, None, Decimal('32.84679235263457'), 100, Decimal('33.090589359618065'), 100, 'Q', '']\n[datetime.datetime(2020, 8, 6, 0, 0), '2020-08-06 09:30:00.0', 'Q', 'SYMB', '2020-08-06 09:52:59.455', 3, 'NYSE', None, None, Decimal('33.282481580927204'), 100, Decimal('35.04488320704174'), 100, 'Q', '']\n[datetime.datetime(2020, 8, 6, 0, 0), '2020-08-06 09:30:00.0', 'Q', 'SYMB', '2020-08-06 09:59:08.049', 4, 'NYSE', None, None, Decimal('35.80141900363462'), 100, Decimal('36.8613695404052'), 100, 'Q', '']\n[datetime.datetime(2020, 8, 6, 0, 0), '2020-08-06 09:30:00.0', 'Q', 'SYMB', '2020-08-06 10:06:58.965', 5, 'NYSE', None, None, Decimal('34.317248462785926'), 100, Decimal('35.70876185644222'), 100, 'Q', '']\n[datetime.datetime(2020, 8, 6, 0, 0), '2020-08-06 09:30:00.0', 'Q', 'SYMB', '2020-08-06 10:14:31.761', 6, 'NYSE', None, None, Decimal('34.99884296895081'), 100, Decimal('36.79022951933338'), 100, 'Q', '']\n[datetime.datetime(2020, 8, 6, 0, 0), '2020-08-06 09:30:00.0', 'Q', 'SYMB', '2020-08-06 10:22:42.912', 7, 'NYSE', None, None, Decimal('34.56350905013758'), 100, Decimal('35.022187825910116'), 100, 'Q', '']\n[datetime.datetime(2020, 8, 6, 0, 0), '2020-08-06 09:30:00.0', 'Q', 'SYMB', '2020-08-06 10:28:01.078', 8, 'NYSE', None, None, Decimal('34.05226202049286'), 100, Decimal('35.69485771979329'), 100, 'Q', '']\n[datetime.datetime(2020, 8, 6, 0, 0), '2020-08-06 09:30:00.0', 'Q', 'SYMB', '2020-08-06 10:37:15.536', 9, 'NYSE', None, None, Decimal('34.076122781883775'), 100, Decimal('35.42673578554051'), 100, 'Q', '']\n[datetime.datetime(2020, 8, 6, 0, 0), '2020-08-06 09:30:00.0', 'T', 'SYMB', '2020-08-06 10:45:42.992', 10, 'NYSE', Decimal('33.85934124362505'), 314, None, None, None, None, 'T', '']\n[datetime.datetime(2020, 8, 6, 0, 0), '2020-08-06 09:30:00.0', 'Q', 'SYMB', '2020-08-06 10:52:37.522', 11, 'NYSE', None, None, Decimal('32.09809341592254'), 100, Decimal('32.47902071842063'), 100, 'Q', '']\n[datetime.datetime(2020, 8, 6, 0, 0), '2020-08-06 09:30:00.0', 'Q', 'SYMB', '2020-08-06 10:59:40.665', 12, 'NYSE', None, None, Decimal('36.28203075761201'), 100, Decimal('36.85958882221652'), 100, 'Q', '']\n[datetime.datetime(2020, 8, 6, 0, 0), '2020-08-06 09:30:00.0', 'Q', 'SYMB', '2020-08-06 11:08:21.481', 13, 'NYSE', None, None, Decimal('35.03385332892808'), 100, Decimal('35.96939236736614'), 100, 'Q', '']\n[datetime.datetime(2020, 8, 6, 0, 0), '2020-08-06 09:30:00.0', 'Q', 'SYMB', '2020-08-06 11:16:52.626', 14, 'NYSE', None, None, Decimal('32.22775759962986'), 100, Decimal('33.826716414517904'), 100, 'Q', '']\n[datetime.datetime(2020, 8, 6, 0, 0), '2020-08-06 09:30:00.0', 'Q', 'SYMB', '2020-08-06 11:22:07.632', 15, 'NYSE', None, None, Decimal('33.913494537278986'), 100, Decimal('35.82888723434745'), 100, 'Q', '']\n[datetime.datetime(2020, 8, 6, 0, 0), '2020-08-06 09:30:00.0', 'Q', 'SYMB', '2020-08-06 11:30:47.287', 16, 'NYSE', None, None, Decimal('32.94591606500395'), 100, Decimal('33.44543827772832'), 100, 'Q', '']\n[datetime.datetime(2020, 8, 6, 0, 0), '2020-08-06 09:30:00.0', 'Q', 'SYMB', '2020-08-06 11:39:25.984', 17, 'NYSE', None, None, Decimal('35.643905717273825'), 100, Decimal('36.781946746179536'), 100, 'Q', '']\n[datetime.datetime(2020, 8, 6, 0, 0), '2020-08-06 09:30:00.0', 'Q', 'SYMB', '2020-08-06 11:48:22.755', 18, 'NYSE', None, None, Decimal('33.54798944098279'), 100, Decimal('33.80527742782961'), 100, 'Q', '']\n[datetime.datetime(2020, 8, 6, 0, 0), '2020-08-06 09:30:00.0', 'Q', 'SYMB', '2020-08-06 11:54:09.346', 19, 'NYSE', None, None, Decimal('33.46308599502262'), 100, Decimal('35.22344387201991'), 100, 'Q', '']\n[datetime.datetime(2020, 8, 6, 0, 0), '2020-08-06 09:30:00.0', 'T', 'SYMB', '2020-08-06 12:01:40.839', 20, 'NYSE', Decimal('32.92885999370572'), 270, None, None, None, None, 'T', '']\n[datetime.datetime(2020, 8, 6, 0, 0), '2020-08-06 09:30:00.0', 'Q', 'SYMB', '2020-08-06 12:09:32.442', 21, 'NYSE', None, None, Decimal('34.826921353672'), 100, Decimal('36.23138734802424'), 100, 'Q', '']\n[datetime.datetime(2020, 8, 6, 0, 0), '2020-08-06 09:30:00.0', 'Q', 'SYMB', '2020-08-06 12:16:08.948', 22, 'NYSE', None, None, Decimal('36.105740403216124'), 100, Decimal('37.45751243545'), 100, 'Q', '']\n[datetime.datetime(2020, 8, 6, 0, 0), '2020-08-06 09:30:00.0', 'Q', 'SYMB', '2020-08-06 12:21:58.911', 23, 'NYSE', None, None, Decimal('35.94181248639138'), 100, Decimal('37.5323947597851\n\n*** WARNING: max output size exceeded, skipping output. ***\n\n'), 100, Decimal('37.14102723632173'), 100, 'Q', '']\n[datetime.datetime(2020, 8, 5, 0, 0), '2020-08-05 09:30:00.0', 'Q', 'SYMB', '2020-08-05 19:02:07.472', 79, 'NYSE', None, None, Decimal('34.425768708843506'), 100, Decimal('34.49062339854234'), 100, 'Q', '']\n[datetime.datetime(2020, 8, 5, 0, 0), '2020-08-05 09:30:00.0', 'T', 'SYMB', '2020-08-05 19:08:12.441', 80, 'NYSE', Decimal('34.274077977485'), 548, None, None, None, None, 'T', '']\n[datetime.datetime(2020, 8, 5, 0, 0), '2020-08-05 09:30:00.0', 'Q', 'SYMB', '2020-08-05 19:16:05.026', 81, 'NYSE', None, None, Decimal('34.13508268874939'), 100, Decimal('34.30684878727408'), 100, 'Q', '']\n[datetime.datetime(2020, 8, 5, 0, 0), '2020-08-05 09:30:00.0', 'Q', 'SYMB', '2020-08-05 19:25:08.088', 82, 'NYSE', None, None, Decimal('32.55079603651297'), 100, Decimal('32.97097229433551'), 100, 'Q', '']\n[datetime.datetime(2020, 8, 5, 0, 0), '2020-08-05 09:30:00.0', 'Q', 'SYMB', '2020-08-05 19:32:36.255', 83, 'NYSE', None, None, Decimal('35.064478061245154'), 100, Decimal('35.373917127863294'), 100, 'Q', '']\n[datetime.datetime(2020, 8, 5, 0, 0), '2020-08-05 09:30:00.0', 'Q', 'SYMB', '2020-08-05 19:37:44.574', 84, 'NYSE', None, None, Decimal('32.61410677197366'), 100, Decimal('34.38788372165255'), 100, 'Q', '']\n[datetime.datetime(2020, 8, 5, 0, 0), '2020-08-05 09:30:00.0', 'Q', 'SYMB', '2020-08-05 19:42:54.581', 85, 'NYSE', None, None, Decimal('34.409900562978805'), 100, Decimal('36.37771521140503'), 100, 'Q', '']\n[datetime.datetime(2020, 8, 5, 0, 0), '2020-08-05 09:30:00.0', 'Q', 'SYMB', '2020-08-05 19:48:03.156', 86, 'NYSE', None, None, Decimal('34.01253555383631'), 100, Decimal('35.28052317606093'), 100, 'Q', '']\n[datetime.datetime(2020, 8, 5, 0, 0), '2020-08-05 09:30:00.0', 'Q', 'SYMB', '2020-08-05 19:56:13.134', 87, 'NYSE', None, None, Decimal('33.109134116334005'), 100, Decimal('33.48359357997542'), 100, 'Q', '']\n[datetime.datetime(2020, 8, 5, 0, 0), '2020-08-05 09:30:00.0', 'Q', 'SYMB', '2020-08-05 20:02:11.415', 88, 'NYSE', None, None, Decimal('34.11694500218239'), 100, Decimal('34.91438171779339'), 100, 'Q', '']\n[datetime.datetime(2020, 8, 5, 0, 0), '2020-08-05 09:30:00.0', 'Q', 'SYMB', '2020-08-05 20:09:20.544', 89, 'NYSE', None, None, Decimal('34.35718658702044'), 100, Decimal('36.03676630600692'), 100, 'Q', '']\n[datetime.datetime(2020, 8, 5, 0, 0), '2020-08-05 09:30:00.0', 'T', 'SYMB', '2020-08-05 20:17:22.625', 90, 'NYSE', Decimal('34.24929812750274'), 145, None, None, None, None, 'T', '']\n[datetime.datetime(2020, 8, 5, 0, 0), '2020-08-05 09:30:00.0', 'Q', 'SYMB', '2020-08-05 20:22:45.443', 91, 'NYSE', None, None, Decimal('33.80390336555996'), 100, Decimal('34.19733810706729'), 100, 'Q', '']\n[datetime.datetime(2020, 8, 5, 0, 0), '2020-08-05 09:30:00.0', 'Q', 'SYMB', '2020-08-05 20:27:39.67', 92, 'NYSE', None, None, Decimal('35.390527024623346'), 100, Decimal('35.87346589519521'), 100, 'Q', '']\n[datetime.datetime(2020, 8, 5, 0, 0), '2020-08-05 09:30:00.0', 'Q', 'SYMB', '2020-08-05 20:36:01.948', 93, 'NYSE', None, None, Decimal('33.52964952197735'), 100, Decimal('35.419653592621025'), 100, 'Q', '']\n[datetime.datetime(2020, 8, 5, 0, 0), '2020-08-05 09:30:00.0', 'Q', 'SYMB', '2020-08-05 20:43:36.861', 94, 'NYSE', None, None, Decimal('35.176507865119895'), 100, Decimal('37.118983726444725'), 100, 'Q', '']\n[datetime.datetime(2020, 8, 5, 0, 0), '2020-08-05 09:30:00.0', 'Q', 'SYMB', '2020-08-05 20:53:02.827', 95, 'NYSE', None, None, Decimal('34.82795506400784'), 100, Decimal('35.799334924992394'), 100, 'Q', '']\n[datetime.datetime(2020, 8, 5, 0, 0), '2020-08-05 09:30:00.0', 'Q', 'SYMB', '2020-08-05 21:00:48.903', 96, 'NYSE', None, None, Decimal('33.42671391148053'), 100, Decimal('34.51921162939241'), 100, 'Q', '']\n[datetime.datetime(2020, 8, 5, 0, 0), '2020-08-05 09:30:00.0', 'Q', 'SYMB', '2020-08-05 21:05:37.235', 97, 'NYSE', None, None, Decimal('32.98808777076142'), 100, Decimal('33.586658448461534'), 100, 'Q', '']\n[datetime.datetime(2020, 8, 5, 0, 0), '2020-08-05 09:30:00.0', 'Q', 'SYMB', '2020-08-05 21:15:01.38', 98, 'NYSE', None, None, Decimal('35.71717600935078'), 100, Decimal('36.64596825908953'), 100, 'Q', '']\n[datetime.datetime(2020, 8, 5, 0, 0), '2020-08-05 09:30:00.0', 'Q', 'SYMB', '2020-08-05 21:22:14.285', 99, 'NYSE', None, None, Decimal('32.011947954810836'), 100, Decimal('32.0869074225166'), 100, 'Q', '']\n[datetime.datetime(2020, 8, 5, 0, 0), '2020-08-05 09:30:00.0', 'T', 'SYMB', '2020-08-05 21:27:28.314', 100, 'NYSE', Decimal('33.956288411627945'), 369, None, None, None, None, 'T', '']\n[datetime.datetime(2020, 8, 5, 0, 0), '2020-08-05 09:30:00.0', 'Q', 'SYMC', '2020-08-05 09:35:05.228', 1, 'NYSE', None, None, Decimal('158.94896383928273'), 100, Decimal('160.19549852097555'), 100, 'Q', '']\n[datetime.datetime(2020, 8, 5, 0, 0), '2020-08-05 09:30:00.0', 'Q', 'SYMC', '2020-08-05 09:41:59.433', 2, 'NYSE', None, None, Decimal('159.83784418405443'), 100, Decimal('161.83380635239612'), 100, 'Q', '']\n[datetime.datetime(2020, 8, 5, 0, 0), '2020-08-05 09:30:00.0', 'Q', 'SYMC', '2020-08-05 09:51:34.255', 3, 'NYSE', None, None, Decimal('159.51592988017737'), 100, Decimal('161.13106877487644'), 100, 'Q', '']\n[datetime.datetime(2020, 8, 5, 0, 0), '2020-08-05 09:30:00.0', 'Q', 'SYMC', '2020-08-05 10:00:47.821', 4, 'NYSE', None, None, Decimal('158.95068643488636'), 100, Decimal('159.7771542128967'), 100, 'Q', '']\n[datetime.datetime(2020, 8, 5, 0, 0), '2020-08-05 09:30:00.0', 'Q', 'SYMC', '2020-08-05 10:09:18.246', 5, 'NYSE', None, None, Decimal('157.61019090926987'), 100, Decimal('159.22924687199028'), 100, 'Q', '']\n[datetime.datetime(2020, 8, 5, 0, 0), '2020-08-05 09:30:00.0', 'Q', 'SYMC', '2020-08-05 10:18:13.448', 6, 'NYSE', None, None, Decimal('158.16539443552094'), 100, Decimal('158.3254349254478'), 100, 'Q', '']\n[datetime.datetime(2020, 8, 5, 0, 0), '2020-08-05 09:30:00.0', 'Q', 'SYMC', '2020-08-05 10:25:51.729', 7, 'NYSE', None, None, Decimal('159.53065315949038'), 100, Decimal('159.68567994623987'), 100, 'Q', '']\n[datetime.datetime(2020, 8, 5, 0, 0), '2020-08-05 09:30:00.0', 'Q', 'SYMC', '2020-08-05 10:32:28.771', 8, 'NYSE', None, None, Decimal('158.75786040231858'), 100, Decimal('159.9221935588707'), 100, 'Q', '']\n[datetime.datetime(2020, 8, 5, 0, 0), '2020-08-05 09:30:00.0', 'Q', 'SYMC', '2020-08-05 10:38:59.521', 9, 'NYSE', None, None, Decimal('160.17551400799576'), 100, Decimal('161.0682463998877'), 100, 'Q', '']\n[datetime.datetime(2020, 8, 5, 0, 0), '2020-08-05 09:30:00.0', 'T', 'SYMC', '2020-08-05 10:44:56.492', 10, 'NYSE', Decimal('160.878722227392'), 836, None, None, None, None, 'T', '']\n[datetime.datetime(2020, 8, 5, 0, 0), '2020-08-05 09:30:00.0', 'Q', 'SYMC', '2020-08-05 10:54:00.181', 11, 'NYSE', None, None, Decimal('160.9504256672059'), 100, Decimal('160.97506213548274'), 100, 'Q', '']\n[datetime.datetime(2020, 8, 5, 0, 0), '2020-08-05 09:30:00.0', 'Q', 'SYMC', '2020-08-05 11:01:10.83', 12, 'NYSE', None, None, Decimal('159.9627067761561'), 100, Decimal('160.01360768235406'), 100, 'Q', '']\n[datetime.datetime(2020, 8, 5, 0, 0), '2020-08-05 09:30:00.0', 'Q', 'SYMC', '2020-08-05 11:06:10.236', 13, 'NYSE', None, None, Decimal('160.1854896300369'), 100, Decimal('160.58617498180672'), 100, 'Q', '']\n[datetime.datetime(2020, 8, 5, 0, 0), '2020-08-05 09:30:00.0', 'Q', 'SYMC', '2020-08-05 11:15:19.5', 14, 'NYSE', None, None, Decimal('157.0671118749214'), 100, Decimal('158.0219272341977'), 100, 'Q', '']\n[datetime.datetime(2020, 8, 5, 0, 0), '2020-08-05 09:30:00.0', 'Q', 'SYMC', '2020-08-05 11:21:57.572', 15, 'NYSE', None, None, Decimal('158.55339093650886'), 100, Decimal('158.77978185276586'), 100, 'Q', '']\n[datetime.datetime(2020, 8, 5, 0, 0), '2020-08-05 09:30:00.0', 'Q', 'SYMC', '2020-08-05 11:29:11.1', 16, 'NYSE', None, None, Decimal('158.9705656349355'), 100, Decimal('159.46339847863882'), 100, 'Q', '']\n[datetime.datetime(2020, 8, 5, 0, 0), '2020-08-05 09:30:00.0', 'Q', 'SYMC', '2020-08-05 11:34:36.082', 17, 'NYSE', None, None, Decimal('158.21122904952765'), 100, Decimal('159.0516070619255'), 100, 'Q', '']\n[datetime.datetime(2020, 8, 5, 0, 0), '2020-08-05 09:30:00.0', 'Q', 'SYMC', '2020-08-05 11:42:19.603', 18, 'NYSE', None, None, Decimal('159.24833091312723'), 100, Decimal('160.70567294833566'), 100, 'Q', '']\n[datetime.datetime(2020, 8, 5, 0, 0), '2020-08-05 09:30:00.0', 'Q', 'SYMC', '2020-08-05 11:48:55.46', 19, 'NYSE', None, None, Decimal('156.90987382373714'), 100, Decimal('158.0527342267169'), 100, 'Q', '']\n[datetime.datetime(2020, 8, 5, 0, 0), '2020-08-05 09:30:00.0', 'T', 'SYMC', '2020-08-05 11:58:06.861', 20, 'NYSE', Decimal('157.02710365675583'), 680, None, None, None, None, 'T', '']\n[datetime.datetime(2020, 8, 5, 0, 0), '2020-08-05 09:30:00.0', 'Q', 'SYMC', '2020-08-05 12:07:00.775', 21, 'NYSE', None, None, Decimal('161.5602113615032'), 100, Decimal('162.9909983781435'), 100, 'Q', '']\n[datetime.datetime(2020, 8, 5, 0, 0), '2020-08-05 09:30:00.0', 'Q', 'SYMC', '2020-08-05 12:15:57.471', 22, 'NYSE', None, None, Decimal('157.94999723799037'), 100, Decimal('159.3905882473778'), 100, 'Q', '']\n[datetime.datetime(2020, 8, 5, 0, 0), '2020-08-05 09:30:00.0', 'Q', 'SYMC', '2020-08-05 12:21:22.237', 23, 'NYSE', None, None, Decimal('157.33154263574315'), 100, Decimal('158.06410441315333'), 100, 'Q', '']\n[datetime.datetime(2020, 8, 5, 0, 0), '2020-08-05 09:30:00.0', 'Q', 'SYMC', '2020-08-05 12:29:24.547', 24, 'NYSE', None, None, Decimal('160.7378531984572'), 100, Decimal('161.91127550439737'), 100, 'Q', '']\n[datetime.datetime(2020, 8, 5, 0, 0), '2020-08-05 09:30:00.0', 'Q', 'SYMC', '2020-08-05 12:37:27.196', 25, 'NYSE', None, None, Decimal('159.0499724894248'), 100, Decimal('159.5113387832061'), 100, 'Q', '']\n[datetime.datetime(2020, 8, 5, 0, 0), '2020-08-05 09:30:00.0', 'Q', 'SYMC', '2020-08-05 12:42:45.605', 26, 'NYSE', None, None, Decimal('160.87423581237869'), 100, Decimal('161.28687833580412'), 100, 'Q', '']\n[datetime.datetime(2020, 8, 5, 0, 0), '2020-08-05 09:30:00.0', 'Q', 'SYMC', '2020-08-05 12:51:53.136', 27, 'NYSE', None, None, Decimal('156.8581355770818'), 100, Decimal('158.84711813251482'), 100, 'Q', '']\n[datetime.datetime(2020, 8, 5, 0, 0), '2020-08-05 09:30:00.0', 'Q', 'SYMC', '2020-08-05 12:57:19.609', 28, 'NYSE', None, None, Decimal('159.57120731718135'), 100, Decimal('159.93217015011152'), 100, 'Q', '']\n[datetime.datetime(2020, 8, 5, 0, 0), '2020-08-05 09:30:00.0', 'Q', 'SYMC', '2020-08-05 13:03:04.932', 29, 'NYSE', None, None, Decimal('158.42609343223376'), 100, Decimal('159.1731391848486'), 100, 'Q', '']\n[datetime.datetime(2020, 8, 5, 0, 0), '2020-08-05 09:30:00.0', 'T', 'SYMC', '2020-08-05 13:10:55.919', 30, 'NYSE', Decimal('157.25434937314296'), 1000, None, None, None, None, 'T', '']\n[datetime.datetime(2020, 8, 5, 0, 0), '2020-08-05 09:30:00.0', 'Q', 'SYMC', '2020-08-05 13:20:20.628', 31, 'NYSE', None, None, Decimal('158.04814448693645'), 100, Decimal('159.06115617182738'), 100, 'Q', '']\n[datetime.datetime(2020, 8, 5, 0, 0), '2020-08-05 09:30:00.0', 'Q', 'SYMC', '2020-08-05 13:28:55.169', 32, 'NYSE', None, None, Decimal('159.19884580121405'), 100, Decimal('159.75456004051446'), 100, 'Q', '']\n[datetime.datetime(2020, 8, 5, 0, 0), '2020-08-05 09:30:00.0', 'Q', 'SYMC', '2020-08-05 13:37:26.364', 33, 'NYSE', None, None, Decimal('160.41585305148678'), 100, Decimal('160.51857675515197'), 100, 'Q', '']\n[datetime.datetime(2020, 8, 5, 0, 0), '2020-08-05 09:30:00.0', 'Q', 'SYMC', '2020-08-05 13:45:39.678', 34, 'NYSE', None, None, Decimal('161.21226380618808'), 100, Decimal('162.0152855012612'), 100, 'Q', '']\n[datetime.datetime(2020, 8, 5, 0, 0), '2020-08-05 09:30:00.0', 'Q', 'SYMC', '2020-08-05 13:52:45.49', 35, 'NYSE', None, None, Decimal('159.90670522449295'), 100, Decimal('161.79119755889852'), 100, 'Q', '']\n[datetime.datetime(2020, 8, 5, 0, 0), '2020-08-05 09:30:00.0', 'Q', 'SYMC', '2020-08-05 13:59:13.939', 36, 'NYSE', None, None, Decimal('159.12464242021792'), 100, Decimal('160.06454982770535'), 100, 'Q', '']\n[datetime.datetime(2020, 8, 5, 0, 0), '2020-08-05 09:30:00.0', 'Q', 'SYMC', '2020-08-05 14:08:05.164', 37, 'NYSE', None, None, Decimal('159.5217025034599'), 100, Decimal('159.52904284964558'), 100, 'Q', '']\n[datetime.datetime(2020, 8, 5, 0, 0), '2020-08-05 09:30:00.0', 'Q', 'SYMC', '2020-08-05 14:15:51.176', 38, 'NYSE', None, None, Decimal('156.74961256550824'), 100, Decimal('157.1335917143105'), 100, 'Q', '']\n[datetime.datetime(2020, 8, 5, 0, 0), '2020-08-05 09:30:00.0', 'Q', 'SYMC', '2020-08-05 14:24:38.593', 39, 'NYSE', None, None, Decimal('159.64391627574986'), 100, Decimal('160.7662129469828'), 100, 'Q', '']\n[datetime.datetime(2020, 8, 5, 0, 0), '2020-08-05 09:30:00.0', 'T', 'SYMC', '2020-08-05 14:32:26.063', 40, 'NYSE', Decimal('160.93912980809299'), 15, None, None, None, None, 'T', '']\n[datetime.datetime(2020, 8, 5, 0, 0), '2020-08-05 09:30:00.0', 'Q', 'SYMC', '2020-08-05 14:38:38.684', 41, 'NYSE', None, None, Decimal('157.14092539206288'), 100, Decimal('157.65441676508283'), 100, 'Q', '']\n[datetime.datetime(2020, 8, 5, 0, 0), '2020-08-05 09:30:00.0', 'Q', 'SYMC', '2020-08-05 14:47:54.79', 42, 'NYSE', None, None, Decimal('161.45199653802365'), 100, Decimal('163.10877064903784'), 100, 'Q', '']\n[datetime.datetime(2020, 8, 5, 0, 0), '2020-08-05 09:30:00.0', 'Q', 'SYMC', '2020-08-05 14:54:08.08', 43, 'NYSE', None, None, Decimal('159.61186487332512'), 100, Decimal('161.1907372085959'), 100, 'Q', '']\n[datetime.datetime(2020, 8, 5, 0, 0), '2020-08-05 09:30:00.0', 'Q', 'SYMC', '2020-08-05 15:02:22.568', 44, 'NYSE', None, None, Decimal('159.855568449361'), 100, Decimal('160.28256765475686'), 100, 'Q', '']\n[datetime.datetime(2020, 8, 5, 0, 0), '2020-08-05 09:30:00.0', 'Q', 'SYMC', '2020-08-05 15:11:30.569', 45, 'NYSE', None, None, Decimal('158.05188995146136'), 100, Decimal('159.9214344032268'), 100, 'Q', '']\n[datetime.datetime(2020, 8, 5, 0, 0), '2020-08-05 09:30:00.0', 'Q', 'SYMC', '2020-08-05 15:16:43.979', 46, 'NYSE', None, None, Decimal('160.05984693614806'), 100, Decimal('161.79818675457193'), 100, 'Q', '']\n[datetime.datetime(2020, 8, 5, 0, 0), '2020-08-05 09:30:00.0', 'Q', 'SYMC', '2020-08-05 15:25:44.079', 47, 'NYSE', None, None, Decimal('157.28831008764246'), 100, Decimal('157.75423624001277'), 100, 'Q', '']\n[datetime.datetime(2020, 8, 5, 0, 0), '2020-08-05 09:30:00.0', 'Q', 'SYMC', '2020-08-05 15:34:38.08', 48, 'NYSE', None, None, Decimal('158.4415451801363'), 100, Decimal('159.33449424694425'), 100, 'Q', '']\n[datetime.datetime(2020, 8, 5, 0, 0), '2020-08-05 09:30:00.0', 'Q', 'SYMC', '2020-08-05 15:41:06.012', 49, 'NYSE', None, None, Decimal('161.07280987928777'), 100, Decimal('162.3103150826665'), 100, 'Q', '']\n[datetime.datetime(2020, 8, 5, 0, 0), '2020-08-05 09:30:00.0', 'T', 'SYMC', '2020-08-05 15:48:06.73', 50, 'NYSE', Decimal('159.16509768322962'), 450, None, None, None, None, 'T', '']\n[datetime.datetime(2020, 8, 5, 0, 0), '2020-08-05 09:30:00.0', 'Q', 'SYMC', '2020-08-05 15:56:43.16', 51, 'NYSE', None, None, Decimal('158.93292852855677'), 100, Decimal('160.67839675726773'), 100, 'Q', '']\n[datetime.datetime(2020, 8, 5, 0, 0), '2020-08-05 09:30:00.0', 'Q', 'SYMC', '2020-08-05 16:01:55.111', 52, 'NYSE', None, None, Decimal('159.63840645517053'), 100, Decimal('161.198325210199'), 100, 'Q', '']\n[datetime.datetime(2020, 8, 5, 0, 0), '2020-08-05 09:30:00.0', 'Q', 'SYMC', '2020-08-05 16:07:53.23', 53, 'NYSE', None, None, Decimal('157.02076242675915'), 100, Decimal('157.07246176898562'), 100, 'Q', '']\n[datetime.datetime(2020, 8, 5, 0, 0), '2020-08-05 09:30:00.0', 'Q', 'SYMC', '2020-08-05 16:15:37.002', 54, 'NYSE', None, None, Decimal('158.0962845645997'), 100, Decimal('159.70097746679414'), 100, 'Q', '']\n[datetime.datetime(2020, 8, 5, 0, 0), '2020-08-05 09:30:00.0', 'Q', 'SYMC', '2020-08-05 16:25:05.493', 55, 'NYSE', None, None, Decimal('161.61699242274082'), 100, Decimal('163.15914944741806'), 100, 'Q', '']\n[datetime.datetime(2020, 8, 5, 0, 0), '2020-08-05 09:30:00.0', 'Q', 'SYMC', '2020-08-05 16:32:38.232', 56, 'NYSE', None, None, Decimal('158.7637383075062'), 100, Decimal('160.00808594509124'), 100, 'Q', '']\n[datetime.datetime(2020, 8, 5, 0, 0), '2020-08-05 09:30:00.0', 'Q', 'SYMC', '2020-08-05 16:40:15.568', 57, 'NYSE', None, None, Decimal('157.28855861285055'), 100, Decimal('157.5347017974472'), 100, 'Q', '']\n[datetime.datetime(2020, 8, 5, 0, 0), '2020-08-05 09:30:00.0', 'Q', 'SYMC', '2020-08-05 16:47:29.17', 58, 'NYSE', None, None, Decimal('159.085537468942'), 100, Decimal('159.64908032361913'), 100, 'Q', '']\n[datetime.datetime(2020, 8, 5, 0, 0), '2020-08-05 09:30:00.0', 'Q', 'SYMC', '2020-08-05 16:54:12.533', 59, 'NYSE', None, None, Decimal('158.29323843374445'), 100, Decimal('159.93483115604718'), 100, 'Q', '']\n[datetime.datetime(2020, 8, 5, 0, 0), '2020-08-05 09:30:00.0', 'T', 'SYMC', '2020-08-05 17:01:38.379', 60, 'NYSE', Decimal('161.15038759453128'), 899, None, None, None, None, 'T', '']\n[datetime.datetime(2020, 8, 5, 0, 0), '2020-08-05 09:30:00.0', 'Q', 'SYMC', '2020-08-05 17:09:36.032', 61, 'NYSE', None, None, Decimal('160.020040717258'), 100, Decimal('161.00639150824577'), 100, 'Q', '']\n[datetime.datetime(2020, 8, 5, 0, 0), '2020-08-05 09:30:00.0', 'Q', 'SYMC', '2020-08-05 17:19:01.2', 62, 'NYSE', None, None, Decimal('156.92531965065865'), 100, Decimal('157.27710936467705'), 100, 'Q', '']\n[datetime.datetime(2020, 8, 5, 0, 0), '2020-08-05 09:30:00.0', 'Q', 'SYMC', '2020-08-05 17:26:33.825', 63, 'NYSE', None, None, Decimal('157.89788093561026'), 100, Decimal('158.30681983225355'), 100, 'Q', '']\n[datetime.datetime(2020, 8, 5, 0, 0), '2020-08-05 09:30:00.0', 'Q', 'SYMC', '2020-08-05 17:34:42.78', 64, 'NYSE', None, None, Decimal('160.86001264006967'), 100, Decimal('161.65842474028642'), 100, 'Q', '']\n[datetime.datetime(2020, 8, 5, 0, 0), '2020-08-05 09:30:00.0', 'Q', 'SYMC', '2020-08-05 17:41:27.08', 65, 'NYSE', None, None, Decimal('160.4334084684355'), 100, Decimal('160.46692615943277'), 100, 'Q', '']\n[datetime.datetime(2020, 8, 5, 0, 0), '2020-08-05 09:30:00.0', 'Q', 'SYMC', '2020-08-05 17:50:52.956', 66, 'NYSE', None, None, Decimal('156.9580211150952'), 100, Decimal('158.82593106437753'), 100, 'Q', '']\n[datetime.datetime(2020, 8, 5, 0, 0), '2020-08-05 09:30:00.0', 'Q', 'SYMC', '2020-08-05 17:59:10.242', 67, 'NYSE', None, None, Decimal('159.90098045817933'), 100, Decimal('161.4624278672129'), 100, 'Q', '']\n[datetime.datetime(2020, 8, 5, 0, 0), '2020-08-05 09:30:00.0', 'Q', 'SYMC', '2020-08-05 18:07:31.844', 68, 'NYSE', None, None, Decimal('156.85966525451494'), 100, Decimal('157.75073969178476'), 100, 'Q', '']\n[datetime.datetime(2020, 8, 5, 0, 0), '2020-08-05 09:30:00.0', 'Q', 'SYMC', '2020-08-05 18:13:28.631', 69, 'NYSE', None, None, Decimal('158.66957709318854'), 100, Decimal('159.90636884536244'), 100, 'Q', '']\n[datetime.datetime(2020, 8, 5, 0, 0), '2020-08-05 09:30:00.0', 'T', 'SYMC', '2020-08-05 18:20:43.709', 70, 'NYSE', Decimal('158.17853977377047'), 869, None, None, None, None, 'T', '']\n[datetime.datetime(2020, 8, 5, 0, 0), '2020-08-05 09:30:00.0', 'Q', 'SYMC', '2020-08-05 18:29:34.06', 71, 'NYSE', None, None, Decimal('159.50229028633717'), 100, Decimal('160.88869781006096'), 100, 'Q', '']\n[datetime.datetime(2020, 8, 5, 0, 0), '2020-08-05 09:30:00.0', 'Q', 'SYMC', '2020-08-05 18:37:01.927', 72, 'NYSE', None, None, Decimal('161.32391443847155'), 100, Decimal('162.33768163136455'), 100, 'Q', '']\n[datetime.datetime(2020, 8, 5, 0, 0), '2020-08-05 09:30:00.0', 'Q', 'SYMC', '2020-08-05 18:43:19.652', 73, 'NYSE', None, None, Decimal('161.29764593288013'), 100, Decimal('161.56052859483793'), 100, 'Q', '']\n[datetime.datetime(2020, 8, 5, 0, 0), '2020-08-05 09:30:00.0', 'Q', 'SYMC', '2020-08-05 18:48:45.176', 74, 'NYSE', None, None, Decimal('156.84389994307173'), 100, Decimal('157.49368965427715'), 100, 'Q', '']\n[datetime.datetime(2020, 8, 5, 0, 0), '2020-08-05 09:30:00.0', 'Q', 'SYMC', '2020-08-05 18:56:25.882', 75, 'NYSE', None, None, Decimal('158.4754927612993'), 100, Decimal('159.59176071557616'), 100, 'Q', '']\n[datetime.datetime(2020, 8, 5, 0, 0), '2020-08-05 09:30:00.0', 'Q', 'SYMC', '2020-08-05 19:03:16.803', 76, 'NYSE', None, None, Decimal('158.88806266506185'), 100, Decimal('159.86522917808776'), 100, 'Q', '']\n[datetime.datetime(2020, 8, 5, 0, 0), '2020-08-05 09:30:00.0', 'Q', 'SYMC', '2020-08-05 19:10:53.926', 77, 'NYSE', None, None, Decimal('160.63291459094546'), 100, Decimal('162.14761770204498'), 100, 'Q', '']\n[datetime.datetime(2020, 8, 5, 0, 0), '2020-08-05 09:30:00.0', 'Q', 'SYMC', '2020-08-05 19:20:25.922', 78, 'NYSE', None, None, Decimal('159.75520523156555'), 100, Decimal('159.89271802468699'), 100, 'Q', '']\n[datetime.datetime(2020, 8, 5, 0, 0), '2020-08-05 09:30:00.0', 'Q', 'SYMC', '2020-08-05 19:28:39.069', 79, 'NYSE', None, None, Decimal('157.21944797188357'), 100, Decimal('158.46540199709975'), 100, 'Q', '']\n[datetime.datetime(2020, 8, 5, 0, 0), '2020-08-05 09:30:00.0', 'T', 'SYMC', '2020-08-05 19:37:55.659', 80, 'NYSE', Decimal('161.1250836712373'), 713, None, None, None, None, 'T', '']\n[datetime.datetime(2020, 8, 5, 0, 0), '2020-08-05 09:30:00.0', 'Q', 'SYMC', '2020-08-05 19:47:23.75', 81, 'NYSE', None, None, Decimal('160.53317511655214'), 100, Decimal('162.39897514789172'), 100, 'Q', '']\n[datetime.datetime(2020, 8, 5, 0, 0), '2020-08-05 09:30:00.0', 'Q', 'SYMC', '2020-08-05 19:54:30.365', 82, 'NYSE', None, None, Decimal('157.3679039445819'), 100, Decimal('158.23928023163958'), 100, 'Q', '']\n[datetime.datetime(2020, 8, 5, 0, 0), '2020-08-05 09:30:00.0', 'Q', 'SYMC', '2020-08-05 19:59:32.008', 83, 'NYSE', None, None, Decimal('159.82781729143753'), 100, Decimal('160.620484576074'), 100, 'Q', '']\n[datetime.datetime(2020, 8, 5, 0, 0), '2020-08-05 09:30:00.0', 'Q', 'SYMC', '2020-08-05 20:08:33.369', 84, 'NYSE', None, None, Decimal('159.25355106635095'), 100, Decimal('160.30002614806475'), 100, 'Q', '']\n[datetime.datetime(2020, 8, 5, 0, 0), '2020-08-05 09:30:00.0', 'Q', 'SYMC', '2020-08-05 20:14:39.576', 85, 'NYSE', None, None, Decimal('157.50176922317263'), 100, Decimal('158.84301350193016'), 100, 'Q', '']\n[datetime.datetime(2020, 8, 5, 0, 0), '2020-08-05 09:30:00.0', 'Q', 'SYMC', '2020-08-05 20:20:45.539', 86, 'NYSE', None, None, Decimal('159.5760909538444'), 100, Decimal('161.39447933492656'), 100, 'Q', '']\n[datetime.datetime(2020, 8, 5, 0, 0), '2020-08-05 09:30:00.0', 'Q', 'SYMC', '2020-08-05 20:29:39.564', 87, 'NYSE', None, None, Decimal('157.5351677936775'), 100, Decimal('157.83737908620802'), 100, 'Q', '']\n[datetime.datetime(2020, 8, 5, 0, 0), '2020-08-05 09:30:00.0', 'Q', 'SYMC', '2020-08-05 20:37:12.617', 88, 'NYSE', None, None, Decimal('161.46316957841327'), 100, Decimal('161.8721459506195'), 100, 'Q', '']\n[datetime.datetime(2020, 8, 5, 0, 0), '2020-08-05 09:30:00.0', 'Q', 'SYMC', '2020-08-05 20:42:41.308', 89, 'NYSE', None, None, Decimal('160.94421465908857'), 100, Decimal('161.48729153344294'), 100, 'Q', '']\n[datetime.datetime(2020, 8, 5, 0, 0), '2020-08-05 09:30:00.0', 'T', 'SYMC', '2020-08-05 20:48:19.795', 90, 'NYSE', Decimal('159.71748170471383'), 692, None, None, None, None, 'T', '']\n[datetime.datetime(2020, 8, 5, 0, 0), '2020-08-05 09:30:00.0', 'Q', 'SYMC', '2020-08-05 20:53:32.672', 91, 'NYSE', None, None, Decimal('158.9106948162808'), 100, Decimal('160.09124741427757'), 100, 'Q', '']\n[datetime.datetime(2020, 8, 5, 0, 0), '2020-08-05 09:30:00.0', 'Q', 'SYMC', '2020-08-05 20:59:16.928', 92, 'NYSE', None, None, Decimal('157.85308449770005'), 100, Decimal('158.8710944507851'), 100, 'Q', '']\n[datetime.datetime(2020, 8, 5, 0, 0), '2020-08-05 09:30:00.0', 'Q', 'SYMC', '2020-08-05 21:06:50.101', 93, 'NYSE', None, None, Decimal('157.41815096503112'), 100, Decimal('159.3540212431008'), 100, 'Q', '']\n[datetime.datetime(2020, 8, 5, 0, 0), '2020-08-05 09:30:00.0', 'Q', 'SYMC', '2020-08-05 21:13:15.969', 94, 'NYSE', None, None, Decimal('158.97366321904713'), 100, Decimal('160.65763003980132'), 100, 'Q', '']\n[datetime.datetime(2020, 8, 5, 0, 0), '2020-08-05 09:30:00.0', 'Q', 'SYMC', '2020-08-05 21:18:32.91', 95, 'NYSE', None, None, Decimal('160.5629984583292'), 100, Decimal('160.80048612395103'), 100, 'Q', '']\n[datetime.datetime(2020, 8, 5, 0, 0), '2020-08-05 09:30:00.0', 'Q', 'SYMC', '2020-08-05 21:27:45.366', 96, 'NYSE', None, None, Decimal('159.16729984177547'), 100, Decimal('160.67633518145337'), 100, 'Q', '']\n[datetime.datetime(2020, 8, 5, 0, 0), '2020-08-05 09:30:00.0', 'Q', 'SYMC', '2020-08-05 21:36:44.375', 97, 'NYSE', None, None, Decimal('160.46993455958778'), 100, Decimal('161.21938374728848'), 100, 'Q', '']\n[datetime.datetime(2020, 8, 5, 0, 0), '2020-08-05 09:30:00.0', 'Q', 'SYMC', '2020-08-05 21:42:00.631', 98, 'NYSE', None, None, Decimal('158.35362939077487'), 100, Decimal('159.67609333710087'), 100, 'Q', '']\n[datetime.datetime(2020, 8, 5, 0, 0), '2020-08-05 09:30:00.0', 'Q', 'SYMC', '2020-08-05 21:46:53.294', 99, 'NYSE', None, None, Decimal('157.91512299628428'), 100, Decimal('158.69463163720525'), 100, 'Q', '']\n[datetime.datetime(2020, 8, 5, 0, 0), '2020-08-05 09:30:00.0', 'T', 'SYMC', '2020-08-05 21:52:38.607', 100, 'NYSE', Decimal('160.61949262766208'), 312, None, None, None, None, 'T', '']\n"
     ]
    }
   ],
   "source": [
    "for row in parsed.collect():\n",
    "    print(row)"
   ]
  },
  {
   "cell_type": "code",
   "execution_count": 0,
   "metadata": {
    "application/vnd.databricks.v1+cell": {
     "cellMetadata": {
      "byteLimit": 2048000,
      "rowLimit": 10000
     },
     "inputWidgets": {},
     "nuid": "6dcf49b5-563e-4a78-9eca-c9ac10816e03",
     "showTitle": false,
     "title": ""
    }
   },
   "outputs": [],
   "source": [
    "from pyspark.sql import SparkSession\n",
    "\n",
    "# Create a SparkSession\n",
    "spark = SparkSession.builder \\\n",
    "    .appName(\"guided-capstone\") \\\n",
    "    .getOrCreate()\n",
    "df = spark.read.json(\"dbfs:/mnt/data/NASDAQ/*.txt\")\n",
    "#df.show()"
   ]
  },
  {
   "cell_type": "code",
   "execution_count": 0,
   "metadata": {
    "application/vnd.databricks.v1+cell": {
     "cellMetadata": {
      "byteLimit": 2048000,
      "rowLimit": 10000
     },
     "inputWidgets": {},
     "nuid": "e4b58622-ebe9-48a1-9fa7-b3816774521a",
     "showTitle": false,
     "title": ""
    }
   },
   "outputs": [
    {
     "output_type": "stream",
     "name": "stdout",
     "output_type": "stream",
     "text": [
      "+-----------------+--------+-----------------+--------+------------+--------------------+----------+--------+------------+--------------------+-----------------+----+------+----------+\n|           ask_pr|ask_size|           bid_pr|bid_size|event_seq_nb|            event_tm|event_type|exchange|execution_id|             file_tm|            price|size|symbol|  trade_dt|\n+-----------------+--------+-----------------+--------+------------+--------------------+----------+--------+------------+--------------------+-----------------+----+------+----------+\n| 77.9647975908747|     100|76.10016521142818|     100|           1|2020-08-05 09:36:...|         Q|  NASDAQ|        NULL|2020-08-05 09:30:...|             NULL|NULL|  SYMA|2020-08-05|\n|75.94452858561046|     100|75.44372945251948|     100|           2|2020-08-05 09:42:...|         Q|  NASDAQ|        NULL|2020-08-05 09:30:...|             NULL|NULL|  SYMA|2020-08-05|\n|80.69114407667608|     100|78.84798564828422|     100|           3|2020-08-05 09:48:...|         Q|  NASDAQ|        NULL|2020-08-05 09:30:...|             NULL|NULL|  SYMA|2020-08-05|\n|76.16256530811053|     100|74.98336890552693|     100|           4|2020-08-05 09:53:...|         Q|  NASDAQ|        NULL|2020-08-05 09:30:...|             NULL|NULL|  SYMA|2020-08-05|\n|77.85512785142082|     100|76.71408448666702|     100|           5|2020-08-05 10:00:...|         Q|  NASDAQ|        NULL|2020-08-05 09:30:...|             NULL|NULL|  SYMA|2020-08-05|\n|77.79982571852163|     100|76.78900747031288|     100|           6|2020-08-05 10:05:...|         Q|  NASDAQ|        NULL|2020-08-05 09:30:...|             NULL|NULL|  SYMA|2020-08-05|\n|76.94631910510188|     100|76.37099394549293|     100|           7|2020-08-05 10:13:...|         Q|  NASDAQ|        NULL|2020-08-05 09:30:...|             NULL|NULL|  SYMA|2020-08-05|\n|77.65017757988643|     100|77.32601214334609|     100|           8|2020-08-05 10:21:...|         Q|  NASDAQ|        NULL|2020-08-05 09:30:...|             NULL|NULL|  SYMA|2020-08-05|\n|77.52985832434904|     100|77.11395059665263|     100|           9|2020-08-05 10:30:...|         Q|  NASDAQ|        NULL|2020-08-05 09:30:...|             NULL|NULL|  SYMA|2020-08-05|\n|             NULL|    NULL|             NULL|    NULL|          10|2020-08-05 10:38:...|         T|  NASDAQ|       EX-10|2020-08-05 09:30:...|77.77570455205036| 509|  SYMA|2020-08-05|\n|79.18604684163077|     100|77.69893211260312|     100|          11|2020-08-05 10:45:...|         Q|  NASDAQ|        NULL|2020-08-05 09:30:...|             NULL|NULL|  SYMA|2020-08-05|\n|75.83132049866276|     100|75.09529363658093|     100|          12|2020-08-05 10:54:...|         Q|  NASDAQ|        NULL|2020-08-05 09:30:...|             NULL|NULL|  SYMA|2020-08-05|\n|79.41345232512326|     100|77.76547178321442|     100|          13|2020-08-05 11:02:...|         Q|  NASDAQ|        NULL|2020-08-05 09:30:...|             NULL|NULL|  SYMA|2020-08-05|\n|76.83733213626446|     100|76.39994032672179|     100|          14|2020-08-05 11:11:...|         Q|  NASDAQ|        NULL|2020-08-05 09:30:...|             NULL|NULL|  SYMA|2020-08-05|\n| 79.8300708192872|     100|79.09882325040374|     100|          15|2020-08-05 11:19:...|         Q|  NASDAQ|        NULL|2020-08-05 09:30:...|             NULL|NULL|  SYMA|2020-08-05|\n|76.05085199350985|     100|74.72294172166815|     100|          16|2020-08-05 11:29:...|         Q|  NASDAQ|        NULL|2020-08-05 09:30:...|             NULL|NULL|  SYMA|2020-08-05|\n| 78.3670502585592|     100|78.06235033524703|     100|          17|2020-08-05 11:34:...|         Q|  NASDAQ|        NULL|2020-08-05 09:30:...|             NULL|NULL|  SYMA|2020-08-05|\n|80.45610125569267|     100| 78.7168332848882|     100|          18|2020-08-05 11:41:...|         Q|  NASDAQ|        NULL|2020-08-05 09:30:...|             NULL|NULL|  SYMA|2020-08-05|\n|80.14798230305898|     100|79.17169989748359|     100|          19|2020-08-05 11:50:...|         Q|  NASDAQ|        NULL|2020-08-05 09:30:...|             NULL|NULL|  SYMA|2020-08-05|\n|             NULL|    NULL|             NULL|    NULL|          20|2020-08-05 11:58:...|         T|  NASDAQ|       EX-20|2020-08-05 09:30:...|75.71522806406605| 366|  SYMA|2020-08-05|\n+-----------------+--------+-----------------+--------+------------+--------------------+----------+--------+------------+--------------------+-----------------+----+------+----------+\nonly showing top 20 rows\n\n"
     ]
    }
   ],
   "source": [
    "from pyspark.sql import SparkSession\n",
    "\n",
    "# Create a SparkSession\n",
    "spark = SparkSession.builder \\\n",
    "    .appName(\"guided-capstone\") \\\n",
    "    .getOrCreate()\n",
    "df = spark.read.json(\"dbfs:/mnt/data/NASDAQ/*.txt\")\n",
    "df.show()\n",
    "def parse_json(row):\n",
    "    record = json.loads(row)  # Parse JSON string into a dictionary\n",
    "    try: \n",
    "        if df.event_type == \"T\":\n",
    "            df.write.partitionBy(\"event_type\").mode(\"overwrite\").parquet(\"output_dir\")\n",
    "        elif df.event_type == \"Q\":\n",
    "            # Event for record type \"Q\"\n",
    "            df.write.partitionBy(\"event_type\").mode(\"overwrite\").parquet(\"output_dir\")\n",
    "        else:\n",
    "            raise ValueError(\"Invalid record type\")\n",
    "        return row\n",
    "    except Exception as e:\n",
    "        # Handle exceptions: return dummy event in bad partition and fill in the fields as None or empty string\n",
    "        return [row, \"B\"]\n",
    "\n",
    "parsed = raw.rdd.map(parse_json)\n",
    "# data = spark.createDataFrame(parsed)"
   ]
  },
  {
   "cell_type": "code",
   "execution_count": 0,
   "metadata": {
    "application/vnd.databricks.v1+cell": {
     "cellMetadata": {},
     "inputWidgets": {},
     "nuid": "1559692c-9d3e-45bd-a05d-29b4ab44115d",
     "showTitle": false,
     "title": ""
    }
   },
   "outputs": [],
   "source": [
    "dbutils.fs.mkdirs(\"dbfs:/mnt/data/output\")\n",
    "#databricks fs mkdirs dbfs:/mnt/data/output\n",
    "output_dir = \"/mnt/data/output\"\n",
    "\n",
    "# Write the DataFrame to Parquet format partitioned by \"event_type\"\n",
    "df.write.partitionBy(\"event_type\").mode(\"overwrite\").parquet(output_dir)"
   ]
  }
 ],
 "metadata": {
  "application/vnd.databricks.v1+notebook": {
   "dashboards": [],
   "language": "python",
   "notebookMetadata": {
    "pythonIndentUnit": 4
   },
   "notebookName": "Guided_capstone_step2",
   "widgets": {}
  }
 },
 "nbformat": 4,
 "nbformat_minor": 0
}
